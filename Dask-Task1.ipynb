{
  "cells": [
    {
      "cell_type": "markdown",
      "metadata": {
        "id": "view-in-github",
        "colab_type": "text"
      },
      "source": [
        "<a href=\"https://colab.research.google.com/github/brinda-lax/Elite-intership/blob/main/Dask-Task1.ipynb\" target=\"_parent\"><img src=\"https://colab.research.google.com/assets/colab-badge.svg\" alt=\"Open In Colab\"/></a>"
      ]
    },
    {
      "cell_type": "code",
      "execution_count": null,
      "id": "afeeab65-8571-4dc1-9bc9-91210c2d1373",
      "metadata": {
        "id": "afeeab65-8571-4dc1-9bc9-91210c2d1373"
      },
      "outputs": [],
      "source": [
        "import dask.dataframe as dd\n",
        "\n",
        "url = \"https://d37ci6vzurychx.cloudfront.net/trip-data/yellow_tripdata_2023-01.parquet\"\n",
        "\n",
        "df = dd.read_parquet(url, engine=\"pyarrow\")\n"
      ]
    },
    {
      "cell_type": "code",
      "execution_count": null,
      "id": "8789a774-5976-4360-8dbc-5a1e57e3149a",
      "metadata": {
        "id": "8789a774-5976-4360-8dbc-5a1e57e3149a",
        "outputId": "4d526c0b-b56d-49cc-d833-87a83b9334bd"
      },
      "outputs": [
        {
          "data": {
            "text/html": [
              "<div>\n",
              "<style scoped>\n",
              "    .dataframe tbody tr th:only-of-type {\n",
              "        vertical-align: middle;\n",
              "    }\n",
              "\n",
              "    .dataframe tbody tr th {\n",
              "        vertical-align: top;\n",
              "    }\n",
              "\n",
              "    .dataframe thead th {\n",
              "        text-align: right;\n",
              "    }\n",
              "</style>\n",
              "<table border=\"1\" class=\"dataframe\">\n",
              "  <thead>\n",
              "    <tr style=\"text-align: right;\">\n",
              "      <th></th>\n",
              "      <th>VendorID</th>\n",
              "      <th>tpep_pickup_datetime</th>\n",
              "      <th>tpep_dropoff_datetime</th>\n",
              "      <th>passenger_count</th>\n",
              "      <th>trip_distance</th>\n",
              "      <th>RatecodeID</th>\n",
              "      <th>store_and_fwd_flag</th>\n",
              "      <th>PULocationID</th>\n",
              "      <th>DOLocationID</th>\n",
              "      <th>payment_type</th>\n",
              "      <th>fare_amount</th>\n",
              "      <th>extra</th>\n",
              "      <th>mta_tax</th>\n",
              "      <th>tip_amount</th>\n",
              "      <th>tolls_amount</th>\n",
              "      <th>improvement_surcharge</th>\n",
              "      <th>total_amount</th>\n",
              "      <th>congestion_surcharge</th>\n",
              "      <th>airport_fee</th>\n",
              "    </tr>\n",
              "  </thead>\n",
              "  <tbody>\n",
              "    <tr>\n",
              "      <th>0</th>\n",
              "      <td>2</td>\n",
              "      <td>2023-01-01 00:32:10</td>\n",
              "      <td>2023-01-01 00:40:36</td>\n",
              "      <td>1.0</td>\n",
              "      <td>0.97</td>\n",
              "      <td>1.0</td>\n",
              "      <td>N</td>\n",
              "      <td>161</td>\n",
              "      <td>141</td>\n",
              "      <td>2</td>\n",
              "      <td>9.3</td>\n",
              "      <td>1.00</td>\n",
              "      <td>0.5</td>\n",
              "      <td>0.00</td>\n",
              "      <td>0.0</td>\n",
              "      <td>1.0</td>\n",
              "      <td>14.30</td>\n",
              "      <td>2.5</td>\n",
              "      <td>0.00</td>\n",
              "    </tr>\n",
              "    <tr>\n",
              "      <th>1</th>\n",
              "      <td>2</td>\n",
              "      <td>2023-01-01 00:55:08</td>\n",
              "      <td>2023-01-01 01:01:27</td>\n",
              "      <td>1.0</td>\n",
              "      <td>1.10</td>\n",
              "      <td>1.0</td>\n",
              "      <td>N</td>\n",
              "      <td>43</td>\n",
              "      <td>237</td>\n",
              "      <td>1</td>\n",
              "      <td>7.9</td>\n",
              "      <td>1.00</td>\n",
              "      <td>0.5</td>\n",
              "      <td>4.00</td>\n",
              "      <td>0.0</td>\n",
              "      <td>1.0</td>\n",
              "      <td>16.90</td>\n",
              "      <td>2.5</td>\n",
              "      <td>0.00</td>\n",
              "    </tr>\n",
              "    <tr>\n",
              "      <th>2</th>\n",
              "      <td>2</td>\n",
              "      <td>2023-01-01 00:25:04</td>\n",
              "      <td>2023-01-01 00:37:49</td>\n",
              "      <td>1.0</td>\n",
              "      <td>2.51</td>\n",
              "      <td>1.0</td>\n",
              "      <td>N</td>\n",
              "      <td>48</td>\n",
              "      <td>238</td>\n",
              "      <td>1</td>\n",
              "      <td>14.9</td>\n",
              "      <td>1.00</td>\n",
              "      <td>0.5</td>\n",
              "      <td>15.00</td>\n",
              "      <td>0.0</td>\n",
              "      <td>1.0</td>\n",
              "      <td>34.90</td>\n",
              "      <td>2.5</td>\n",
              "      <td>0.00</td>\n",
              "    </tr>\n",
              "    <tr>\n",
              "      <th>3</th>\n",
              "      <td>1</td>\n",
              "      <td>2023-01-01 00:03:48</td>\n",
              "      <td>2023-01-01 00:13:25</td>\n",
              "      <td>0.0</td>\n",
              "      <td>1.90</td>\n",
              "      <td>1.0</td>\n",
              "      <td>N</td>\n",
              "      <td>138</td>\n",
              "      <td>7</td>\n",
              "      <td>1</td>\n",
              "      <td>12.1</td>\n",
              "      <td>7.25</td>\n",
              "      <td>0.5</td>\n",
              "      <td>0.00</td>\n",
              "      <td>0.0</td>\n",
              "      <td>1.0</td>\n",
              "      <td>20.85</td>\n",
              "      <td>0.0</td>\n",
              "      <td>1.25</td>\n",
              "    </tr>\n",
              "    <tr>\n",
              "      <th>4</th>\n",
              "      <td>2</td>\n",
              "      <td>2023-01-01 00:10:29</td>\n",
              "      <td>2023-01-01 00:21:19</td>\n",
              "      <td>1.0</td>\n",
              "      <td>1.43</td>\n",
              "      <td>1.0</td>\n",
              "      <td>N</td>\n",
              "      <td>107</td>\n",
              "      <td>79</td>\n",
              "      <td>1</td>\n",
              "      <td>11.4</td>\n",
              "      <td>1.00</td>\n",
              "      <td>0.5</td>\n",
              "      <td>3.28</td>\n",
              "      <td>0.0</td>\n",
              "      <td>1.0</td>\n",
              "      <td>19.68</td>\n",
              "      <td>2.5</td>\n",
              "      <td>0.00</td>\n",
              "    </tr>\n",
              "  </tbody>\n",
              "</table>\n",
              "</div>"
            ],
            "text/plain": [
              "   VendorID tpep_pickup_datetime tpep_dropoff_datetime  passenger_count  \\\n",
              "0         2  2023-01-01 00:32:10   2023-01-01 00:40:36              1.0   \n",
              "1         2  2023-01-01 00:55:08   2023-01-01 01:01:27              1.0   \n",
              "2         2  2023-01-01 00:25:04   2023-01-01 00:37:49              1.0   \n",
              "3         1  2023-01-01 00:03:48   2023-01-01 00:13:25              0.0   \n",
              "4         2  2023-01-01 00:10:29   2023-01-01 00:21:19              1.0   \n",
              "\n",
              "   trip_distance  RatecodeID store_and_fwd_flag  PULocationID  DOLocationID  \\\n",
              "0           0.97         1.0                  N           161           141   \n",
              "1           1.10         1.0                  N            43           237   \n",
              "2           2.51         1.0                  N            48           238   \n",
              "3           1.90         1.0                  N           138             7   \n",
              "4           1.43         1.0                  N           107            79   \n",
              "\n",
              "   payment_type  fare_amount  extra  mta_tax  tip_amount  tolls_amount  \\\n",
              "0             2          9.3   1.00      0.5        0.00           0.0   \n",
              "1             1          7.9   1.00      0.5        4.00           0.0   \n",
              "2             1         14.9   1.00      0.5       15.00           0.0   \n",
              "3             1         12.1   7.25      0.5        0.00           0.0   \n",
              "4             1         11.4   1.00      0.5        3.28           0.0   \n",
              "\n",
              "   improvement_surcharge  total_amount  congestion_surcharge  airport_fee  \n",
              "0                    1.0         14.30                   2.5         0.00  \n",
              "1                    1.0         16.90                   2.5         0.00  \n",
              "2                    1.0         34.90                   2.5         0.00  \n",
              "3                    1.0         20.85                   0.0         1.25  \n",
              "4                    1.0         19.68                   2.5         0.00  "
            ]
          },
          "execution_count": 3,
          "metadata": {},
          "output_type": "execute_result"
        }
      ],
      "source": [
        "df.head(5)"
      ]
    },
    {
      "cell_type": "code",
      "execution_count": null,
      "id": "0488de99-79dd-44fb-b80f-cf5349412b89",
      "metadata": {
        "id": "0488de99-79dd-44fb-b80f-cf5349412b89",
        "outputId": "ea31bfb8-cd52-4ec9-b106-4ef3c9e9a608"
      },
      "outputs": [
        {
          "data": {
            "text/plain": [
              "Index(['VendorID', 'tpep_pickup_datetime', 'tpep_dropoff_datetime',\n",
              "       'passenger_count', 'trip_distance', 'RatecodeID', 'store_and_fwd_flag',\n",
              "       'PULocationID', 'DOLocationID', 'payment_type', 'fare_amount', 'extra',\n",
              "       'mta_tax', 'tip_amount', 'tolls_amount', 'improvement_surcharge',\n",
              "       'total_amount', 'congestion_surcharge', 'airport_fee'],\n",
              "      dtype='object')"
            ]
          },
          "execution_count": 5,
          "metadata": {},
          "output_type": "execute_result"
        }
      ],
      "source": [
        "df.columns"
      ]
    },
    {
      "cell_type": "code",
      "execution_count": null,
      "id": "ef2bf767-26fe-4d02-992c-cdb090560aa7",
      "metadata": {
        "id": "ef2bf767-26fe-4d02-992c-cdb090560aa7"
      },
      "outputs": [],
      "source": [
        "\n",
        "num_rows = df.map_partitions(len).compute().sum()\n"
      ]
    },
    {
      "cell_type": "code",
      "execution_count": null,
      "id": "c382facb-f371-463e-b9f9-fb44b044158f",
      "metadata": {
        "id": "c382facb-f371-463e-b9f9-fb44b044158f",
        "outputId": "a6ddd1e8-29f8-42c1-c39b-47f4a610e37a"
      },
      "outputs": [
        {
          "data": {
            "text/plain": [
              "3066766"
            ]
          },
          "execution_count": 9,
          "metadata": {},
          "output_type": "execute_result"
        }
      ],
      "source": [
        "num_rows"
      ]
    },
    {
      "cell_type": "markdown",
      "id": "9c3c53ce-0bed-4529-b738-91232efd58b1",
      "metadata": {
        "id": "9c3c53ce-0bed-4529-b738-91232efd58b1"
      },
      "source": [
        "Q1)What is the monthly trend of total rides over the past year?\n"
      ]
    },
    {
      "cell_type": "code",
      "execution_count": null,
      "id": "58ed1f31-fa58-4259-a30d-b4dd36bf55ff",
      "metadata": {
        "id": "58ed1f31-fa58-4259-a30d-b4dd36bf55ff",
        "outputId": "3d59416b-2bf0-4a52-e05c-8f8321342905"
      },
      "outputs": [
        {
          "name": "stdout",
          "output_type": "stream",
          "text": [
            "<class 'dask_expr.DataFrame'>\n",
            "Columns: 19 entries, VendorID to airport_fee\n",
            "dtypes: datetime64[us](2), float64(12), int64(4), string(1)"
          ]
        }
      ],
      "source": [
        "df.info()"
      ]
    },
    {
      "cell_type": "code",
      "execution_count": null,
      "id": "38736157-9f51-4fd0-bc4e-206eea28a5ad",
      "metadata": {
        "id": "38736157-9f51-4fd0-bc4e-206eea28a5ad"
      },
      "outputs": [],
      "source": [
        "df['tpep_pickup_datetime'] = dd.to_datetime(df['tpep_pickup_datetime'])\n",
        "df['tpep_dropoff_datetime']=dd.to_datetime(df['tpep_dropoff_datetime'])"
      ]
    },
    {
      "cell_type": "code",
      "execution_count": null,
      "id": "bd5877bb-eac3-4d9f-b94f-1bf033507b7c",
      "metadata": {
        "id": "bd5877bb-eac3-4d9f-b94f-1bf033507b7c",
        "outputId": "a841a777-2f06-4211-b262-0c8dda8dc04e"
      },
      "outputs": [
        {
          "data": {
            "text/plain": [
              "Timestamp('2023-02-01 00:56:53')"
            ]
          },
          "execution_count": 20,
          "metadata": {},
          "output_type": "execute_result"
        }
      ],
      "source": [
        "max_date = df['tpep_pickup_datetime'].max().compute()\n",
        "max_date"
      ]
    },
    {
      "cell_type": "code",
      "execution_count": null,
      "id": "cac9587e-7200-4a14-9815-695d2cde2ba5",
      "metadata": {
        "id": "cac9587e-7200-4a14-9815-695d2cde2ba5",
        "outputId": "d57e6724-f401-4f27-9646-7d82ddca82f8"
      },
      "outputs": [
        {
          "data": {
            "text/plain": [
              "Timestamp('2008-12-31 23:01:42')"
            ]
          },
          "execution_count": 22,
          "metadata": {},
          "output_type": "execute_result"
        }
      ],
      "source": [
        "min_date = df['tpep_pickup_datetime'].min().compute()\n",
        "min_date"
      ]
    },
    {
      "cell_type": "code",
      "execution_count": null,
      "id": "f8119fce-9b2e-4921-ae02-b2a45c6cf8f7",
      "metadata": {
        "id": "f8119fce-9b2e-4921-ae02-b2a45c6cf8f7"
      },
      "outputs": [],
      "source": [
        "from datetime import datetime,timedelta\n"
      ]
    },
    {
      "cell_type": "code",
      "execution_count": null,
      "id": "834f3532-2c06-415f-a596-a80eaa32b093",
      "metadata": {
        "id": "834f3532-2c06-415f-a596-a80eaa32b093"
      },
      "outputs": [],
      "source": [
        "start_date = max_date - timedelta(days=365)"
      ]
    },
    {
      "cell_type": "code",
      "execution_count": null,
      "id": "36894ff0-8534-4751-9ecd-0253d7ca6787",
      "metadata": {
        "id": "36894ff0-8534-4751-9ecd-0253d7ca6787",
        "outputId": "a36dfc7f-83cb-47cc-a1d1-c1657df0d43e"
      },
      "outputs": [
        {
          "data": {
            "text/plain": [
              "Timestamp('2022-02-01 00:56:53')"
            ]
          },
          "execution_count": 42,
          "metadata": {},
          "output_type": "execute_result"
        }
      ],
      "source": [
        "start_date"
      ]
    },
    {
      "cell_type": "code",
      "execution_count": null,
      "id": "7417697a-9a1f-4f30-a290-5e6268367897",
      "metadata": {
        "id": "7417697a-9a1f-4f30-a290-5e6268367897"
      },
      "outputs": [],
      "source": [
        "q1_filtered_df = df[(df['tpep_pickup_datetime'] >= start_date) &\n",
        "                 (df['tpep_pickup_datetime'] < max_date)]"
      ]
    },
    {
      "cell_type": "code",
      "execution_count": null,
      "id": "84cd51e4-47e1-4790-90cf-c3cca77fc35a",
      "metadata": {
        "id": "84cd51e4-47e1-4790-90cf-c3cca77fc35a",
        "outputId": "bb84b87d-89db-4cfb-9ffc-219e4062294a"
      },
      "outputs": [
        {
          "data": {
            "text/plain": [
              "Timestamp('2023-02-01 00:13:10')"
            ]
          },
          "execution_count": 40,
          "metadata": {},
          "output_type": "execute_result"
        }
      ],
      "source": [
        "q1_filtered_df['tpep_pickup_datetime'].max().compute()"
      ]
    },
    {
      "cell_type": "code",
      "execution_count": null,
      "id": "e59ed9ee-4ed3-4e13-a0e3-32c1acd098ec",
      "metadata": {
        "id": "e59ed9ee-4ed3-4e13-a0e3-32c1acd098ec"
      },
      "outputs": [],
      "source": [
        "q1_filtered_df['pickup_month']=q1_filtered_df['tpep_pickup_datetime'].dt.to_period('M').astype(str)"
      ]
    },
    {
      "cell_type": "code",
      "execution_count": null,
      "id": "fe999821-e41a-447e-920f-f4e93329af10",
      "metadata": {
        "id": "fe999821-e41a-447e-920f-f4e93329af10",
        "outputId": "7394699f-f3c6-4856-d38c-e74cdba12b19"
      },
      "outputs": [
        {
          "data": {
            "text/plain": [
              "3066763"
            ]
          },
          "execution_count": 44,
          "metadata": {},
          "output_type": "execute_result"
        }
      ],
      "source": [
        "q1_filtered_df.shape[0].compute()\n"
      ]
    },
    {
      "cell_type": "code",
      "execution_count": null,
      "id": "212bf0dd-8fb2-487c-b25e-45484d9340cf",
      "metadata": {
        "id": "212bf0dd-8fb2-487c-b25e-45484d9340cf"
      },
      "outputs": [],
      "source": [
        "monthly_rides=q1_filtered_df.groupby('pickup_month').size().compute().reset_index(name='Count')"
      ]
    },
    {
      "cell_type": "code",
      "execution_count": null,
      "id": "369b3da8-d00b-44c2-a34e-2cee5355f39f",
      "metadata": {
        "id": "369b3da8-d00b-44c2-a34e-2cee5355f39f",
        "outputId": "de2abb42-145a-44d5-e48a-5bff26db624c"
      },
      "outputs": [
        {
          "data": {
            "text/html": [
              "<div>\n",
              "<style scoped>\n",
              "    .dataframe tbody tr th:only-of-type {\n",
              "        vertical-align: middle;\n",
              "    }\n",
              "\n",
              "    .dataframe tbody tr th {\n",
              "        vertical-align: top;\n",
              "    }\n",
              "\n",
              "    .dataframe thead th {\n",
              "        text-align: right;\n",
              "    }\n",
              "</style>\n",
              "<table border=\"1\" class=\"dataframe\">\n",
              "  <thead>\n",
              "    <tr style=\"text-align: right;\">\n",
              "      <th></th>\n",
              "      <th>pickup_month</th>\n",
              "      <th>Count</th>\n",
              "    </tr>\n",
              "  </thead>\n",
              "  <tbody>\n",
              "    <tr>\n",
              "      <th>0</th>\n",
              "      <td>2022-10</td>\n",
              "      <td>11</td>\n",
              "    </tr>\n",
              "    <tr>\n",
              "      <th>1</th>\n",
              "      <td>2022-12</td>\n",
              "      <td>25</td>\n",
              "    </tr>\n",
              "    <tr>\n",
              "      <th>2</th>\n",
              "      <td>2023-01</td>\n",
              "      <td>3066718</td>\n",
              "    </tr>\n",
              "    <tr>\n",
              "      <th>3</th>\n",
              "      <td>2023-02</td>\n",
              "      <td>9</td>\n",
              "    </tr>\n",
              "  </tbody>\n",
              "</table>\n",
              "</div>"
            ],
            "text/plain": [
              "  pickup_month    Count\n",
              "0      2022-10       11\n",
              "1      2022-12       25\n",
              "2      2023-01  3066718\n",
              "3      2023-02        9"
            ]
          },
          "execution_count": 38,
          "metadata": {},
          "output_type": "execute_result"
        }
      ],
      "source": [
        "monthly_rides"
      ]
    },
    {
      "cell_type": "markdown",
      "id": "8ee2ba1e-b51a-4be6-9d6c-0f4957ba646e",
      "metadata": {
        "id": "8ee2ba1e-b51a-4be6-9d6c-0f4957ba646e"
      },
      "source": [
        "That means almost 100% of the rides are from January 2023,\n",
        "and only a few stray rides exist outside that month (like 11 in Oct 2022, 25 in Dec 2022, etc.)."
      ]
    },
    {
      "cell_type": "markdown",
      "id": "0691d264-68ed-454b-ad98-645eedcdf30d",
      "metadata": {
        "id": "0691d264-68ed-454b-ad98-645eedcdf30d"
      },
      "source": [
        " Q2) What is the average fare amount over time(Jan 2023)?\n"
      ]
    },
    {
      "cell_type": "code",
      "execution_count": null,
      "id": "f8c16f3f-cced-452e-8ce0-c6bd8f872389",
      "metadata": {
        "id": "f8c16f3f-cced-452e-8ce0-c6bd8f872389"
      },
      "outputs": [],
      "source": [
        "jan_df = df[(df['tpep_pickup_datetime'] >= '2023-01-01') & (df['tpep_pickup_datetime'] < '2023-02-01')]\n"
      ]
    },
    {
      "cell_type": "code",
      "execution_count": null,
      "id": "2671566c-ae4d-4f69-9ab7-b9d8d211167b",
      "metadata": {
        "id": "2671566c-ae4d-4f69-9ab7-b9d8d211167b"
      },
      "outputs": [],
      "source": [
        "jan_df['pickup_date']=jan_df['tpep_pickup_datetime'].dt.date"
      ]
    },
    {
      "cell_type": "code",
      "execution_count": null,
      "id": "a4359f4c-f2bf-4e19-9f48-2f17daff9e24",
      "metadata": {
        "id": "a4359f4c-f2bf-4e19-9f48-2f17daff9e24"
      },
      "outputs": [],
      "source": [
        "avg_fare=jan_df.groupby('pickup_date')['fare_amount'].mean().compute().reset_index(name='Average_fare/day')\n"
      ]
    },
    {
      "cell_type": "code",
      "execution_count": null,
      "id": "eb147bf3-6f35-48a5-8180-51752231b82a",
      "metadata": {
        "id": "eb147bf3-6f35-48a5-8180-51752231b82a",
        "outputId": "8fc06f03-3a50-4e22-de2c-112ab358d7cc"
      },
      "outputs": [
        {
          "data": {
            "text/html": [
              "<div>\n",
              "<style scoped>\n",
              "    .dataframe tbody tr th:only-of-type {\n",
              "        vertical-align: middle;\n",
              "    }\n",
              "\n",
              "    .dataframe tbody tr th {\n",
              "        vertical-align: top;\n",
              "    }\n",
              "\n",
              "    .dataframe thead th {\n",
              "        text-align: right;\n",
              "    }\n",
              "</style>\n",
              "<table border=\"1\" class=\"dataframe\">\n",
              "  <thead>\n",
              "    <tr style=\"text-align: right;\">\n",
              "      <th></th>\n",
              "      <th>pickup_date</th>\n",
              "      <th>Average_fare/day</th>\n",
              "    </tr>\n",
              "  </thead>\n",
              "  <tbody>\n",
              "    <tr>\n",
              "      <th>0</th>\n",
              "      <td>2023-01-01</td>\n",
              "      <td>21.869196</td>\n",
              "    </tr>\n",
              "    <tr>\n",
              "      <th>1</th>\n",
              "      <td>2023-01-02</td>\n",
              "      <td>21.960321</td>\n",
              "    </tr>\n",
              "    <tr>\n",
              "      <th>2</th>\n",
              "      <td>2023-01-03</td>\n",
              "      <td>19.999048</td>\n",
              "    </tr>\n",
              "    <tr>\n",
              "      <th>3</th>\n",
              "      <td>2023-01-04</td>\n",
              "      <td>18.977018</td>\n",
              "    </tr>\n",
              "    <tr>\n",
              "      <th>4</th>\n",
              "      <td>2023-01-05</td>\n",
              "      <td>18.349612</td>\n",
              "    </tr>\n",
              "    <tr>\n",
              "      <th>5</th>\n",
              "      <td>2023-01-06</td>\n",
              "      <td>17.822202</td>\n",
              "    </tr>\n",
              "    <tr>\n",
              "      <th>6</th>\n",
              "      <td>2023-01-07</td>\n",
              "      <td>17.540121</td>\n",
              "    </tr>\n",
              "    <tr>\n",
              "      <th>7</th>\n",
              "      <td>2023-01-08</td>\n",
              "      <td>19.755304</td>\n",
              "    </tr>\n",
              "    <tr>\n",
              "      <th>8</th>\n",
              "      <td>2023-01-09</td>\n",
              "      <td>18.830372</td>\n",
              "    </tr>\n",
              "    <tr>\n",
              "      <th>9</th>\n",
              "      <td>2023-01-10</td>\n",
              "      <td>17.637964</td>\n",
              "    </tr>\n",
              "    <tr>\n",
              "      <th>10</th>\n",
              "      <td>2023-01-11</td>\n",
              "      <td>17.409958</td>\n",
              "    </tr>\n",
              "    <tr>\n",
              "      <th>11</th>\n",
              "      <td>2023-01-12</td>\n",
              "      <td>18.479851</td>\n",
              "    </tr>\n",
              "    <tr>\n",
              "      <th>12</th>\n",
              "      <td>2023-01-13</td>\n",
              "      <td>18.685632</td>\n",
              "    </tr>\n",
              "    <tr>\n",
              "      <th>13</th>\n",
              "      <td>2023-01-14</td>\n",
              "      <td>17.810588</td>\n",
              "    </tr>\n",
              "    <tr>\n",
              "      <th>14</th>\n",
              "      <td>2023-01-15</td>\n",
              "      <td>18.637456</td>\n",
              "    </tr>\n",
              "    <tr>\n",
              "      <th>15</th>\n",
              "      <td>2023-01-16</td>\n",
              "      <td>19.824897</td>\n",
              "    </tr>\n",
              "    <tr>\n",
              "      <th>16</th>\n",
              "      <td>2023-01-17</td>\n",
              "      <td>18.765341</td>\n",
              "    </tr>\n",
              "    <tr>\n",
              "      <th>17</th>\n",
              "      <td>2023-01-18</td>\n",
              "      <td>18.051709</td>\n",
              "    </tr>\n",
              "    <tr>\n",
              "      <th>18</th>\n",
              "      <td>2023-01-19</td>\n",
              "      <td>17.972698</td>\n",
              "    </tr>\n",
              "    <tr>\n",
              "      <th>19</th>\n",
              "      <td>2023-01-20</td>\n",
              "      <td>17.934134</td>\n",
              "    </tr>\n",
              "    <tr>\n",
              "      <th>20</th>\n",
              "      <td>2023-01-21</td>\n",
              "      <td>16.966091</td>\n",
              "    </tr>\n",
              "    <tr>\n",
              "      <th>21</th>\n",
              "      <td>2023-01-22</td>\n",
              "      <td>18.910542</td>\n",
              "    </tr>\n",
              "    <tr>\n",
              "      <th>22</th>\n",
              "      <td>2023-01-23</td>\n",
              "      <td>18.204612</td>\n",
              "    </tr>\n",
              "    <tr>\n",
              "      <th>23</th>\n",
              "      <td>2023-01-24</td>\n",
              "      <td>17.511672</td>\n",
              "    </tr>\n",
              "    <tr>\n",
              "      <th>24</th>\n",
              "      <td>2023-01-25</td>\n",
              "      <td>17.077408</td>\n",
              "    </tr>\n",
              "    <tr>\n",
              "      <th>25</th>\n",
              "      <td>2023-01-26</td>\n",
              "      <td>18.051028</td>\n",
              "    </tr>\n",
              "    <tr>\n",
              "      <th>26</th>\n",
              "      <td>2023-01-27</td>\n",
              "      <td>17.773428</td>\n",
              "    </tr>\n",
              "    <tr>\n",
              "      <th>27</th>\n",
              "      <td>2023-01-28</td>\n",
              "      <td>17.005298</td>\n",
              "    </tr>\n",
              "    <tr>\n",
              "      <th>28</th>\n",
              "      <td>2023-01-29</td>\n",
              "      <td>18.976934</td>\n",
              "    </tr>\n",
              "    <tr>\n",
              "      <th>29</th>\n",
              "      <td>2023-01-30</td>\n",
              "      <td>18.603272</td>\n",
              "    </tr>\n",
              "    <tr>\n",
              "      <th>30</th>\n",
              "      <td>2023-01-31</td>\n",
              "      <td>17.859388</td>\n",
              "    </tr>\n",
              "  </tbody>\n",
              "</table>\n",
              "</div>"
            ],
            "text/plain": [
              "   pickup_date  Average_fare/day\n",
              "0   2023-01-01         21.869196\n",
              "1   2023-01-02         21.960321\n",
              "2   2023-01-03         19.999048\n",
              "3   2023-01-04         18.977018\n",
              "4   2023-01-05         18.349612\n",
              "5   2023-01-06         17.822202\n",
              "6   2023-01-07         17.540121\n",
              "7   2023-01-08         19.755304\n",
              "8   2023-01-09         18.830372\n",
              "9   2023-01-10         17.637964\n",
              "10  2023-01-11         17.409958\n",
              "11  2023-01-12         18.479851\n",
              "12  2023-01-13         18.685632\n",
              "13  2023-01-14         17.810588\n",
              "14  2023-01-15         18.637456\n",
              "15  2023-01-16         19.824897\n",
              "16  2023-01-17         18.765341\n",
              "17  2023-01-18         18.051709\n",
              "18  2023-01-19         17.972698\n",
              "19  2023-01-20         17.934134\n",
              "20  2023-01-21         16.966091\n",
              "21  2023-01-22         18.910542\n",
              "22  2023-01-23         18.204612\n",
              "23  2023-01-24         17.511672\n",
              "24  2023-01-25         17.077408\n",
              "25  2023-01-26         18.051028\n",
              "26  2023-01-27         17.773428\n",
              "27  2023-01-28         17.005298\n",
              "28  2023-01-29         18.976934\n",
              "29  2023-01-30         18.603272\n",
              "30  2023-01-31         17.859388"
            ]
          },
          "execution_count": 55,
          "metadata": {},
          "output_type": "execute_result"
        }
      ],
      "source": [
        "avg_fare"
      ]
    },
    {
      "cell_type": "markdown",
      "id": "a5966ddf-5586-42c0-91e6-01f15007bb3a",
      "metadata": {
        "id": "a5966ddf-5586-42c0-91e6-01f15007bb3a"
      },
      "source": [
        "Q3)What is the total revenue generated from each pickup location (PULocationID),Top 5 Locations?\n"
      ]
    },
    {
      "cell_type": "code",
      "execution_count": null,
      "id": "f857380c-1e40-476a-8650-90f6648b4f06",
      "metadata": {
        "id": "f857380c-1e40-476a-8650-90f6648b4f06",
        "outputId": "ba7f0cdb-9b0a-459a-fa49-6ad2b0819233"
      },
      "outputs": [
        {
          "data": {
            "text/html": [
              "<div>\n",
              "<style scoped>\n",
              "    .dataframe tbody tr th:only-of-type {\n",
              "        vertical-align: middle;\n",
              "    }\n",
              "\n",
              "    .dataframe tbody tr th {\n",
              "        vertical-align: top;\n",
              "    }\n",
              "\n",
              "    .dataframe thead th {\n",
              "        text-align: right;\n",
              "    }\n",
              "</style>\n",
              "<table border=\"1\" class=\"dataframe\">\n",
              "  <thead>\n",
              "    <tr style=\"text-align: right;\">\n",
              "      <th></th>\n",
              "      <th>VendorID</th>\n",
              "      <th>tpep_pickup_datetime</th>\n",
              "      <th>tpep_dropoff_datetime</th>\n",
              "      <th>passenger_count</th>\n",
              "      <th>trip_distance</th>\n",
              "      <th>RatecodeID</th>\n",
              "      <th>store_and_fwd_flag</th>\n",
              "      <th>PULocationID</th>\n",
              "      <th>DOLocationID</th>\n",
              "      <th>payment_type</th>\n",
              "      <th>fare_amount</th>\n",
              "      <th>extra</th>\n",
              "      <th>mta_tax</th>\n",
              "      <th>tip_amount</th>\n",
              "      <th>tolls_amount</th>\n",
              "      <th>improvement_surcharge</th>\n",
              "      <th>total_amount</th>\n",
              "      <th>congestion_surcharge</th>\n",
              "      <th>airport_fee</th>\n",
              "      <th>pickup_date</th>\n",
              "    </tr>\n",
              "  </thead>\n",
              "  <tbody>\n",
              "    <tr>\n",
              "      <th>0</th>\n",
              "      <td>2</td>\n",
              "      <td>2023-01-01 00:32:10</td>\n",
              "      <td>2023-01-01 00:40:36</td>\n",
              "      <td>1.0</td>\n",
              "      <td>0.97</td>\n",
              "      <td>1.0</td>\n",
              "      <td>N</td>\n",
              "      <td>161</td>\n",
              "      <td>141</td>\n",
              "      <td>2</td>\n",
              "      <td>9.3</td>\n",
              "      <td>1.00</td>\n",
              "      <td>0.5</td>\n",
              "      <td>0.00</td>\n",
              "      <td>0.0</td>\n",
              "      <td>1.0</td>\n",
              "      <td>14.30</td>\n",
              "      <td>2.5</td>\n",
              "      <td>0.00</td>\n",
              "      <td>2023-01-01</td>\n",
              "    </tr>\n",
              "    <tr>\n",
              "      <th>1</th>\n",
              "      <td>2</td>\n",
              "      <td>2023-01-01 00:55:08</td>\n",
              "      <td>2023-01-01 01:01:27</td>\n",
              "      <td>1.0</td>\n",
              "      <td>1.10</td>\n",
              "      <td>1.0</td>\n",
              "      <td>N</td>\n",
              "      <td>43</td>\n",
              "      <td>237</td>\n",
              "      <td>1</td>\n",
              "      <td>7.9</td>\n",
              "      <td>1.00</td>\n",
              "      <td>0.5</td>\n",
              "      <td>4.00</td>\n",
              "      <td>0.0</td>\n",
              "      <td>1.0</td>\n",
              "      <td>16.90</td>\n",
              "      <td>2.5</td>\n",
              "      <td>0.00</td>\n",
              "      <td>2023-01-01</td>\n",
              "    </tr>\n",
              "    <tr>\n",
              "      <th>2</th>\n",
              "      <td>2</td>\n",
              "      <td>2023-01-01 00:25:04</td>\n",
              "      <td>2023-01-01 00:37:49</td>\n",
              "      <td>1.0</td>\n",
              "      <td>2.51</td>\n",
              "      <td>1.0</td>\n",
              "      <td>N</td>\n",
              "      <td>48</td>\n",
              "      <td>238</td>\n",
              "      <td>1</td>\n",
              "      <td>14.9</td>\n",
              "      <td>1.00</td>\n",
              "      <td>0.5</td>\n",
              "      <td>15.00</td>\n",
              "      <td>0.0</td>\n",
              "      <td>1.0</td>\n",
              "      <td>34.90</td>\n",
              "      <td>2.5</td>\n",
              "      <td>0.00</td>\n",
              "      <td>2023-01-01</td>\n",
              "    </tr>\n",
              "    <tr>\n",
              "      <th>3</th>\n",
              "      <td>1</td>\n",
              "      <td>2023-01-01 00:03:48</td>\n",
              "      <td>2023-01-01 00:13:25</td>\n",
              "      <td>0.0</td>\n",
              "      <td>1.90</td>\n",
              "      <td>1.0</td>\n",
              "      <td>N</td>\n",
              "      <td>138</td>\n",
              "      <td>7</td>\n",
              "      <td>1</td>\n",
              "      <td>12.1</td>\n",
              "      <td>7.25</td>\n",
              "      <td>0.5</td>\n",
              "      <td>0.00</td>\n",
              "      <td>0.0</td>\n",
              "      <td>1.0</td>\n",
              "      <td>20.85</td>\n",
              "      <td>0.0</td>\n",
              "      <td>1.25</td>\n",
              "      <td>2023-01-01</td>\n",
              "    </tr>\n",
              "    <tr>\n",
              "      <th>4</th>\n",
              "      <td>2</td>\n",
              "      <td>2023-01-01 00:10:29</td>\n",
              "      <td>2023-01-01 00:21:19</td>\n",
              "      <td>1.0</td>\n",
              "      <td>1.43</td>\n",
              "      <td>1.0</td>\n",
              "      <td>N</td>\n",
              "      <td>107</td>\n",
              "      <td>79</td>\n",
              "      <td>1</td>\n",
              "      <td>11.4</td>\n",
              "      <td>1.00</td>\n",
              "      <td>0.5</td>\n",
              "      <td>3.28</td>\n",
              "      <td>0.0</td>\n",
              "      <td>1.0</td>\n",
              "      <td>19.68</td>\n",
              "      <td>2.5</td>\n",
              "      <td>0.00</td>\n",
              "      <td>2023-01-01</td>\n",
              "    </tr>\n",
              "  </tbody>\n",
              "</table>\n",
              "</div>"
            ],
            "text/plain": [
              "   VendorID tpep_pickup_datetime tpep_dropoff_datetime  passenger_count  \\\n",
              "0         2  2023-01-01 00:32:10   2023-01-01 00:40:36              1.0   \n",
              "1         2  2023-01-01 00:55:08   2023-01-01 01:01:27              1.0   \n",
              "2         2  2023-01-01 00:25:04   2023-01-01 00:37:49              1.0   \n",
              "3         1  2023-01-01 00:03:48   2023-01-01 00:13:25              0.0   \n",
              "4         2  2023-01-01 00:10:29   2023-01-01 00:21:19              1.0   \n",
              "\n",
              "   trip_distance  RatecodeID store_and_fwd_flag  PULocationID  DOLocationID  \\\n",
              "0           0.97         1.0                  N           161           141   \n",
              "1           1.10         1.0                  N            43           237   \n",
              "2           2.51         1.0                  N            48           238   \n",
              "3           1.90         1.0                  N           138             7   \n",
              "4           1.43         1.0                  N           107            79   \n",
              "\n",
              "   payment_type  fare_amount  extra  mta_tax  tip_amount  tolls_amount  \\\n",
              "0             2          9.3   1.00      0.5        0.00           0.0   \n",
              "1             1          7.9   1.00      0.5        4.00           0.0   \n",
              "2             1         14.9   1.00      0.5       15.00           0.0   \n",
              "3             1         12.1   7.25      0.5        0.00           0.0   \n",
              "4             1         11.4   1.00      0.5        3.28           0.0   \n",
              "\n",
              "   improvement_surcharge  total_amount  congestion_surcharge  airport_fee  \\\n",
              "0                    1.0         14.30                   2.5         0.00   \n",
              "1                    1.0         16.90                   2.5         0.00   \n",
              "2                    1.0         34.90                   2.5         0.00   \n",
              "3                    1.0         20.85                   0.0         1.25   \n",
              "4                    1.0         19.68                   2.5         0.00   \n",
              "\n",
              "  pickup_date  \n",
              "0  2023-01-01  \n",
              "1  2023-01-01  \n",
              "2  2023-01-01  \n",
              "3  2023-01-01  \n",
              "4  2023-01-01  "
            ]
          },
          "execution_count": 61,
          "metadata": {},
          "output_type": "execute_result"
        }
      ],
      "source": [
        "jan_df.head()"
      ]
    },
    {
      "cell_type": "code",
      "execution_count": null,
      "id": "59129819-cdc4-468f-9d97-f911df406364",
      "metadata": {
        "id": "59129819-cdc4-468f-9d97-f911df406364"
      },
      "outputs": [],
      "source": [
        "total_amount_location=jan_df.groupby('PULocationID')['total_amount'].sum().compute().reset_index(name='Total Amount')"
      ]
    },
    {
      "cell_type": "code",
      "execution_count": null,
      "id": "8aa4d68f-41c2-4487-b5ad-c4381e716861",
      "metadata": {
        "id": "8aa4d68f-41c2-4487-b5ad-c4381e716861"
      },
      "outputs": [],
      "source": [
        "total_amount_location=total_amount_location.sort_values(by='Total Amount',ascending=False)"
      ]
    },
    {
      "cell_type": "code",
      "execution_count": null,
      "id": "5b0510e9-96c1-4e0d-a462-ae1614f7526d",
      "metadata": {
        "id": "5b0510e9-96c1-4e0d-a462-ae1614f7526d",
        "outputId": "617926ec-9ee7-4a83-bb89-db8ef3818ec1"
      },
      "outputs": [
        {
          "data": {
            "text/html": [
              "<div>\n",
              "<style scoped>\n",
              "    .dataframe tbody tr th:only-of-type {\n",
              "        vertical-align: middle;\n",
              "    }\n",
              "\n",
              "    .dataframe tbody tr th {\n",
              "        vertical-align: top;\n",
              "    }\n",
              "\n",
              "    .dataframe thead th {\n",
              "        text-align: right;\n",
              "    }\n",
              "</style>\n",
              "<table border=\"1\" class=\"dataframe\">\n",
              "  <thead>\n",
              "    <tr style=\"text-align: right;\">\n",
              "      <th></th>\n",
              "      <th>PULocationID</th>\n",
              "      <th>Total Amount</th>\n",
              "    </tr>\n",
              "  </thead>\n",
              "  <tbody>\n",
              "    <tr>\n",
              "      <th>124</th>\n",
              "      <td>132</td>\n",
              "      <td>11926574.76</td>\n",
              "    </tr>\n",
              "    <tr>\n",
              "      <th>130</th>\n",
              "      <td>138</td>\n",
              "      <td>5628923.24</td>\n",
              "    </tr>\n",
              "    <tr>\n",
              "      <th>153</th>\n",
              "      <td>161</td>\n",
              "      <td>3155541.57</td>\n",
              "    </tr>\n",
              "    <tr>\n",
              "      <th>228</th>\n",
              "      <td>237</td>\n",
              "      <td>2888515.19</td>\n",
              "    </tr>\n",
              "    <tr>\n",
              "      <th>227</th>\n",
              "      <td>236</td>\n",
              "      <td>2830541.55</td>\n",
              "    </tr>\n",
              "  </tbody>\n",
              "</table>\n",
              "</div>"
            ],
            "text/plain": [
              "     PULocationID  Total Amount\n",
              "124           132   11926574.76\n",
              "130           138    5628923.24\n",
              "153           161    3155541.57\n",
              "228           237    2888515.19\n",
              "227           236    2830541.55"
            ]
          },
          "execution_count": 75,
          "metadata": {},
          "output_type": "execute_result"
        }
      ],
      "source": [
        "total_amount_location.head(5)"
      ]
    },
    {
      "cell_type": "markdown",
      "id": "ecc6eddd-d15c-46ca-9c4d-228b749f2301",
      "metadata": {
        "id": "ecc6eddd-d15c-46ca-9c4d-228b749f2301"
      },
      "source": [
        "Q4)What is the cancellation rate per location? (If cancellation can be inferred from trip_distance == 0 or missing dropoff)\n"
      ]
    },
    {
      "cell_type": "code",
      "execution_count": null,
      "id": "9c5a8c2b-7d25-4c43-ac7f-14816693023d",
      "metadata": {
        "id": "9c5a8c2b-7d25-4c43-ac7f-14816693023d"
      },
      "outputs": [],
      "source": [
        "jan_df_cancelled=jan_df[(jan_df['trip_distance']==0)| (jan_df['tpep_dropoff_datetime'].isna())]"
      ]
    },
    {
      "cell_type": "code",
      "execution_count": null,
      "id": "c19fbc7b-1685-4608-b891-07333bd62cff",
      "metadata": {
        "id": "c19fbc7b-1685-4608-b891-07333bd62cff",
        "outputId": "687c04a8-8a47-46a3-ef79-66e68d83ccad"
      },
      "outputs": [
        {
          "data": {
            "text/html": [
              "<div>\n",
              "<style scoped>\n",
              "    .dataframe tbody tr th:only-of-type {\n",
              "        vertical-align: middle;\n",
              "    }\n",
              "\n",
              "    .dataframe tbody tr th {\n",
              "        vertical-align: top;\n",
              "    }\n",
              "\n",
              "    .dataframe thead th {\n",
              "        text-align: right;\n",
              "    }\n",
              "</style>\n",
              "<table border=\"1\" class=\"dataframe\">\n",
              "  <thead>\n",
              "    <tr style=\"text-align: right;\">\n",
              "      <th></th>\n",
              "      <th>VendorID</th>\n",
              "      <th>tpep_pickup_datetime</th>\n",
              "      <th>tpep_dropoff_datetime</th>\n",
              "      <th>passenger_count</th>\n",
              "      <th>trip_distance</th>\n",
              "      <th>RatecodeID</th>\n",
              "      <th>store_and_fwd_flag</th>\n",
              "      <th>PULocationID</th>\n",
              "      <th>DOLocationID</th>\n",
              "      <th>payment_type</th>\n",
              "      <th>fare_amount</th>\n",
              "      <th>extra</th>\n",
              "      <th>mta_tax</th>\n",
              "      <th>tip_amount</th>\n",
              "      <th>tolls_amount</th>\n",
              "      <th>improvement_surcharge</th>\n",
              "      <th>total_amount</th>\n",
              "      <th>congestion_surcharge</th>\n",
              "      <th>airport_fee</th>\n",
              "      <th>pickup_date</th>\n",
              "    </tr>\n",
              "  </thead>\n",
              "  <tbody>\n",
              "    <tr>\n",
              "      <th>3066753</th>\n",
              "      <td>1</td>\n",
              "      <td>2023-01-31 23:12:06</td>\n",
              "      <td>2023-01-31 23:32:16</td>\n",
              "      <td>NaN</td>\n",
              "      <td>0.0</td>\n",
              "      <td>NaN</td>\n",
              "      <td>&lt;NA&gt;</td>\n",
              "      <td>164</td>\n",
              "      <td>13</td>\n",
              "      <td>0</td>\n",
              "      <td>12.64</td>\n",
              "      <td>0.0</td>\n",
              "      <td>0.5</td>\n",
              "      <td>0.00</td>\n",
              "      <td>0.0</td>\n",
              "      <td>1.0</td>\n",
              "      <td>16.64</td>\n",
              "      <td>NaN</td>\n",
              "      <td>NaN</td>\n",
              "      <td>2023-01-31</td>\n",
              "    </tr>\n",
              "    <tr>\n",
              "      <th>3066755</th>\n",
              "      <td>1</td>\n",
              "      <td>2023-01-31 23:28:56</td>\n",
              "      <td>2023-01-31 23:45:11</td>\n",
              "      <td>NaN</td>\n",
              "      <td>0.0</td>\n",
              "      <td>NaN</td>\n",
              "      <td>&lt;NA&gt;</td>\n",
              "      <td>144</td>\n",
              "      <td>48</td>\n",
              "      <td>0</td>\n",
              "      <td>13.08</td>\n",
              "      <td>0.0</td>\n",
              "      <td>0.5</td>\n",
              "      <td>0.00</td>\n",
              "      <td>0.0</td>\n",
              "      <td>1.0</td>\n",
              "      <td>17.08</td>\n",
              "      <td>NaN</td>\n",
              "      <td>NaN</td>\n",
              "      <td>2023-01-31</td>\n",
              "    </tr>\n",
              "    <tr>\n",
              "      <th>3066756</th>\n",
              "      <td>1</td>\n",
              "      <td>2023-01-31 23:05:36</td>\n",
              "      <td>2023-01-31 23:20:37</td>\n",
              "      <td>NaN</td>\n",
              "      <td>0.0</td>\n",
              "      <td>NaN</td>\n",
              "      <td>&lt;NA&gt;</td>\n",
              "      <td>161</td>\n",
              "      <td>148</td>\n",
              "      <td>0</td>\n",
              "      <td>12.74</td>\n",
              "      <td>0.0</td>\n",
              "      <td>0.5</td>\n",
              "      <td>0.00</td>\n",
              "      <td>0.0</td>\n",
              "      <td>1.0</td>\n",
              "      <td>16.74</td>\n",
              "      <td>NaN</td>\n",
              "      <td>NaN</td>\n",
              "      <td>2023-01-31</td>\n",
              "    </tr>\n",
              "    <tr>\n",
              "      <th>3066758</th>\n",
              "      <td>1</td>\n",
              "      <td>2023-01-31 23:10:56</td>\n",
              "      <td>2023-01-31 23:23:37</td>\n",
              "      <td>NaN</td>\n",
              "      <td>0.0</td>\n",
              "      <td>NaN</td>\n",
              "      <td>&lt;NA&gt;</td>\n",
              "      <td>162</td>\n",
              "      <td>151</td>\n",
              "      <td>0</td>\n",
              "      <td>12.00</td>\n",
              "      <td>1.0</td>\n",
              "      <td>0.5</td>\n",
              "      <td>9.40</td>\n",
              "      <td>0.0</td>\n",
              "      <td>1.0</td>\n",
              "      <td>28.40</td>\n",
              "      <td>NaN</td>\n",
              "      <td>NaN</td>\n",
              "      <td>2023-01-31</td>\n",
              "    </tr>\n",
              "    <tr>\n",
              "      <th>3066759</th>\n",
              "      <td>1</td>\n",
              "      <td>2023-01-31 23:54:02</td>\n",
              "      <td>2023-02-01 00:23:17</td>\n",
              "      <td>NaN</td>\n",
              "      <td>0.0</td>\n",
              "      <td>NaN</td>\n",
              "      <td>&lt;NA&gt;</td>\n",
              "      <td>68</td>\n",
              "      <td>160</td>\n",
              "      <td>0</td>\n",
              "      <td>27.00</td>\n",
              "      <td>1.0</td>\n",
              "      <td>0.5</td>\n",
              "      <td>10.55</td>\n",
              "      <td>0.0</td>\n",
              "      <td>1.0</td>\n",
              "      <td>44.55</td>\n",
              "      <td>NaN</td>\n",
              "      <td>NaN</td>\n",
              "      <td>2023-01-31</td>\n",
              "    </tr>\n",
              "  </tbody>\n",
              "</table>\n",
              "</div>"
            ],
            "text/plain": [
              "         VendorID tpep_pickup_datetime tpep_dropoff_datetime  passenger_count  \\\n",
              "3066753         1  2023-01-31 23:12:06   2023-01-31 23:32:16              NaN   \n",
              "3066755         1  2023-01-31 23:28:56   2023-01-31 23:45:11              NaN   \n",
              "3066756         1  2023-01-31 23:05:36   2023-01-31 23:20:37              NaN   \n",
              "3066758         1  2023-01-31 23:10:56   2023-01-31 23:23:37              NaN   \n",
              "3066759         1  2023-01-31 23:54:02   2023-02-01 00:23:17              NaN   \n",
              "\n",
              "         trip_distance  RatecodeID store_and_fwd_flag  PULocationID  \\\n",
              "3066753            0.0         NaN               <NA>           164   \n",
              "3066755            0.0         NaN               <NA>           144   \n",
              "3066756            0.0         NaN               <NA>           161   \n",
              "3066758            0.0         NaN               <NA>           162   \n",
              "3066759            0.0         NaN               <NA>            68   \n",
              "\n",
              "         DOLocationID  payment_type  fare_amount  extra  mta_tax  tip_amount  \\\n",
              "3066753            13             0        12.64    0.0      0.5        0.00   \n",
              "3066755            48             0        13.08    0.0      0.5        0.00   \n",
              "3066756           148             0        12.74    0.0      0.5        0.00   \n",
              "3066758           151             0        12.00    1.0      0.5        9.40   \n",
              "3066759           160             0        27.00    1.0      0.5       10.55   \n",
              "\n",
              "         tolls_amount  improvement_surcharge  total_amount  \\\n",
              "3066753           0.0                    1.0         16.64   \n",
              "3066755           0.0                    1.0         17.08   \n",
              "3066756           0.0                    1.0         16.74   \n",
              "3066758           0.0                    1.0         28.40   \n",
              "3066759           0.0                    1.0         44.55   \n",
              "\n",
              "         congestion_surcharge  airport_fee pickup_date  \n",
              "3066753                   NaN          NaN  2023-01-31  \n",
              "3066755                   NaN          NaN  2023-01-31  \n",
              "3066756                   NaN          NaN  2023-01-31  \n",
              "3066758                   NaN          NaN  2023-01-31  \n",
              "3066759                   NaN          NaN  2023-01-31  "
            ]
          },
          "execution_count": 86,
          "metadata": {},
          "output_type": "execute_result"
        }
      ],
      "source": [
        "jan_df_cancelled.tail()"
      ]
    },
    {
      "cell_type": "code",
      "execution_count": null,
      "id": "79af88af-8c20-4df8-903c-9d739d150fdb",
      "metadata": {
        "id": "79af88af-8c20-4df8-903c-9d739d150fdb"
      },
      "outputs": [],
      "source": [
        "jan_df_rides=jan_df['PULocationID'].value_counts().compute().reset_index(name='total_rate')"
      ]
    },
    {
      "cell_type": "code",
      "execution_count": null,
      "id": "6fb81898-0297-426f-8d4a-f7dbd4cb08af",
      "metadata": {
        "id": "6fb81898-0297-426f-8d4a-f7dbd4cb08af"
      },
      "outputs": [],
      "source": [
        "jan_df_cancelled_rides=jan_df_cancelled['PULocationID'].value_counts().compute().reset_index(name='cancelled_rate')"
      ]
    },
    {
      "cell_type": "code",
      "execution_count": null,
      "id": "dbedc0c3-8ea6-4085-bbfa-7ed23064847d",
      "metadata": {
        "id": "dbedc0c3-8ea6-4085-bbfa-7ed23064847d"
      },
      "outputs": [],
      "source": [
        "total_rides=jan_df_rides.merge(jan_df_cancelled_rides,on='PULocationID',how='left')"
      ]
    },
    {
      "cell_type": "code",
      "execution_count": null,
      "id": "265b9afa-89e9-46a4-90e3-56ed131c59d2",
      "metadata": {
        "id": "265b9afa-89e9-46a4-90e3-56ed131c59d2"
      },
      "outputs": [],
      "source": [
        "total_rides['cancelled_rate']=total_rides['cancelled_rate'].fillna(0)"
      ]
    },
    {
      "cell_type": "code",
      "execution_count": null,
      "id": "befde1b6-0c6f-4fa6-9402-b088680bee52",
      "metadata": {
        "id": "befde1b6-0c6f-4fa6-9402-b088680bee52",
        "outputId": "e3ae766d-a3c3-44bd-fc28-886af5f43d35"
      },
      "outputs": [
        {
          "data": {
            "text/html": [
              "<div>\n",
              "<style scoped>\n",
              "    .dataframe tbody tr th:only-of-type {\n",
              "        vertical-align: middle;\n",
              "    }\n",
              "\n",
              "    .dataframe tbody tr th {\n",
              "        vertical-align: top;\n",
              "    }\n",
              "\n",
              "    .dataframe thead th {\n",
              "        text-align: right;\n",
              "    }\n",
              "</style>\n",
              "<table border=\"1\" class=\"dataframe\">\n",
              "  <thead>\n",
              "    <tr style=\"text-align: right;\">\n",
              "      <th></th>\n",
              "      <th>PULocationID</th>\n",
              "      <th>total_rate</th>\n",
              "      <th>cancelled_rate</th>\n",
              "    </tr>\n",
              "  </thead>\n",
              "  <tbody>\n",
              "    <tr>\n",
              "      <th>0</th>\n",
              "      <td>1</td>\n",
              "      <td>408</td>\n",
              "      <td>324.0</td>\n",
              "    </tr>\n",
              "    <tr>\n",
              "      <th>1</th>\n",
              "      <td>2</td>\n",
              "      <td>2</td>\n",
              "      <td>0.0</td>\n",
              "    </tr>\n",
              "    <tr>\n",
              "      <th>2</th>\n",
              "      <td>3</td>\n",
              "      <td>39</td>\n",
              "      <td>11.0</td>\n",
              "    </tr>\n",
              "    <tr>\n",
              "      <th>3</th>\n",
              "      <td>4</td>\n",
              "      <td>3649</td>\n",
              "      <td>98.0</td>\n",
              "    </tr>\n",
              "    <tr>\n",
              "      <th>4</th>\n",
              "      <td>5</td>\n",
              "      <td>56</td>\n",
              "      <td>3.0</td>\n",
              "    </tr>\n",
              "  </tbody>\n",
              "</table>\n",
              "</div>"
            ],
            "text/plain": [
              "   PULocationID  total_rate  cancelled_rate\n",
              "0             1         408           324.0\n",
              "1             2           2             0.0\n",
              "2             3          39            11.0\n",
              "3             4        3649            98.0\n",
              "4             5          56             3.0"
            ]
          },
          "execution_count": 104,
          "metadata": {},
          "output_type": "execute_result"
        }
      ],
      "source": [
        "total_rides.head()"
      ]
    },
    {
      "cell_type": "code",
      "execution_count": null,
      "id": "e953b7bc-e054-472f-b561-0c2b8292f258",
      "metadata": {
        "id": "e953b7bc-e054-472f-b561-0c2b8292f258"
      },
      "outputs": [],
      "source": [
        "total_rides['cancellation_rate']=(total_rides['cancelled_rate']/total_rides['total_rate'])"
      ]
    },
    {
      "cell_type": "code",
      "execution_count": null,
      "id": "edc43fd2-3197-4288-8c00-7fdc55539bf2",
      "metadata": {
        "id": "edc43fd2-3197-4288-8c00-7fdc55539bf2"
      },
      "outputs": [],
      "source": [
        "total_rides=total_rides.sort_values(by='cancellation_rate',ascending=False)"
      ]
    },
    {
      "cell_type": "code",
      "execution_count": null,
      "id": "e64bd113-6286-4477-8e6a-b4628d9cbd23",
      "metadata": {
        "id": "e64bd113-6286-4477-8e6a-b4628d9cbd23",
        "outputId": "85b124ac-5446-4709-a4b7-560bed28dca6"
      },
      "outputs": [
        {
          "data": {
            "text/html": [
              "<div>\n",
              "<style scoped>\n",
              "    .dataframe tbody tr th:only-of-type {\n",
              "        vertical-align: middle;\n",
              "    }\n",
              "\n",
              "    .dataframe tbody tr th {\n",
              "        vertical-align: top;\n",
              "    }\n",
              "\n",
              "    .dataframe thead th {\n",
              "        text-align: right;\n",
              "    }\n",
              "</style>\n",
              "<table border=\"1\" class=\"dataframe\">\n",
              "  <thead>\n",
              "    <tr style=\"text-align: right;\">\n",
              "      <th></th>\n",
              "      <th>PULocationID</th>\n",
              "      <th>total_rate</th>\n",
              "      <th>cancelled_rate</th>\n",
              "      <th>cancellation_rate</th>\n",
              "    </tr>\n",
              "  </thead>\n",
              "  <tbody>\n",
              "    <tr>\n",
              "      <th>178</th>\n",
              "      <td>187</td>\n",
              "      <td>2</td>\n",
              "      <td>2.0</td>\n",
              "      <td>1.000000</td>\n",
              "    </tr>\n",
              "    <tr>\n",
              "      <th>107</th>\n",
              "      <td>115</td>\n",
              "      <td>4</td>\n",
              "      <td>4.0</td>\n",
              "      <td>1.000000</td>\n",
              "    </tr>\n",
              "    <tr>\n",
              "      <th>184</th>\n",
              "      <td>193</td>\n",
              "      <td>2713</td>\n",
              "      <td>2262.0</td>\n",
              "      <td>0.833763</td>\n",
              "    </tr>\n",
              "    <tr>\n",
              "      <th>28</th>\n",
              "      <td>30</td>\n",
              "      <td>12</td>\n",
              "      <td>10.0</td>\n",
              "      <td>0.833333</td>\n",
              "    </tr>\n",
              "    <tr>\n",
              "      <th>198</th>\n",
              "      <td>207</td>\n",
              "      <td>219</td>\n",
              "      <td>178.0</td>\n",
              "      <td>0.812785</td>\n",
              "    </tr>\n",
              "    <tr>\n",
              "      <th>0</th>\n",
              "      <td>1</td>\n",
              "      <td>408</td>\n",
              "      <td>324.0</td>\n",
              "      <td>0.794118</td>\n",
              "    </tr>\n",
              "    <tr>\n",
              "      <th>242</th>\n",
              "      <td>251</td>\n",
              "      <td>7</td>\n",
              "      <td>5.0</td>\n",
              "      <td>0.714286</td>\n",
              "    </tr>\n",
              "    <tr>\n",
              "      <th>256</th>\n",
              "      <td>265</td>\n",
              "      <td>1646</td>\n",
              "      <td>1122.0</td>\n",
              "      <td>0.681652</td>\n",
              "    </tr>\n",
              "    <tr>\n",
              "      <th>102</th>\n",
              "      <td>109</td>\n",
              "      <td>3</td>\n",
              "      <td>2.0</td>\n",
              "      <td>0.666667</td>\n",
              "    </tr>\n",
              "    <tr>\n",
              "      <th>137</th>\n",
              "      <td>145</td>\n",
              "      <td>2434</td>\n",
              "      <td>1429.0</td>\n",
              "      <td>0.587099</td>\n",
              "    </tr>\n",
              "  </tbody>\n",
              "</table>\n",
              "</div>"
            ],
            "text/plain": [
              "     PULocationID  total_rate  cancelled_rate  cancellation_rate\n",
              "178           187           2             2.0           1.000000\n",
              "107           115           4             4.0           1.000000\n",
              "184           193        2713          2262.0           0.833763\n",
              "28             30          12            10.0           0.833333\n",
              "198           207         219           178.0           0.812785\n",
              "0               1         408           324.0           0.794118\n",
              "242           251           7             5.0           0.714286\n",
              "256           265        1646          1122.0           0.681652\n",
              "102           109           3             2.0           0.666667\n",
              "137           145        2434          1429.0           0.587099"
            ]
          },
          "execution_count": 116,
          "metadata": {},
          "output_type": "execute_result"
        }
      ],
      "source": [
        "total_rides.head(10)"
      ]
    },
    {
      "cell_type": "markdown",
      "id": "4ad7af90-59fd-4c06-9347-853c3f2c19bd",
      "metadata": {
        "id": "4ad7af90-59fd-4c06-9347-853c3f2c19bd"
      },
      "source": [
        "📄 Page 2: Driver Performance\n",
        "\n",
        "Purpose: Assess how different drivers/vendors perform.\n",
        "\n",
        "Questions:\n",
        "\n",
        "What is the average trip duration by VendorID?\n"
      ]
    },
    {
      "cell_type": "markdown",
      "id": "a6743c2a-c35d-4515-932a-d7f075ff03ee",
      "metadata": {
        "id": "a6743c2a-c35d-4515-932a-d7f075ff03ee"
      },
      "source": [
        "Here im going for jan 2023"
      ]
    },
    {
      "cell_type": "code",
      "execution_count": null,
      "id": "cfcdd93b-7509-4b93-8fd1-4c517bea8423",
      "metadata": {
        "id": "cfcdd93b-7509-4b93-8fd1-4c517bea8423",
        "outputId": "5c04ddf6-a4b0-4dc5-ef70-88cf1c7fee46"
      },
      "outputs": [
        {
          "data": {
            "text/html": [
              "<div>\n",
              "<style scoped>\n",
              "    .dataframe tbody tr th:only-of-type {\n",
              "        vertical-align: middle;\n",
              "    }\n",
              "\n",
              "    .dataframe tbody tr th {\n",
              "        vertical-align: top;\n",
              "    }\n",
              "\n",
              "    .dataframe thead th {\n",
              "        text-align: right;\n",
              "    }\n",
              "</style>\n",
              "<table border=\"1\" class=\"dataframe\">\n",
              "  <thead>\n",
              "    <tr style=\"text-align: right;\">\n",
              "      <th></th>\n",
              "      <th>VendorID</th>\n",
              "      <th>tpep_pickup_datetime</th>\n",
              "      <th>tpep_dropoff_datetime</th>\n",
              "      <th>passenger_count</th>\n",
              "      <th>trip_distance</th>\n",
              "      <th>RatecodeID</th>\n",
              "      <th>store_and_fwd_flag</th>\n",
              "      <th>PULocationID</th>\n",
              "      <th>DOLocationID</th>\n",
              "      <th>payment_type</th>\n",
              "      <th>fare_amount</th>\n",
              "      <th>extra</th>\n",
              "      <th>mta_tax</th>\n",
              "      <th>tip_amount</th>\n",
              "      <th>tolls_amount</th>\n",
              "      <th>improvement_surcharge</th>\n",
              "      <th>total_amount</th>\n",
              "      <th>congestion_surcharge</th>\n",
              "      <th>airport_fee</th>\n",
              "      <th>pickup_date</th>\n",
              "    </tr>\n",
              "  </thead>\n",
              "  <tbody>\n",
              "    <tr>\n",
              "      <th>0</th>\n",
              "      <td>2</td>\n",
              "      <td>2023-01-01 00:32:10</td>\n",
              "      <td>2023-01-01 00:40:36</td>\n",
              "      <td>1.0</td>\n",
              "      <td>0.97</td>\n",
              "      <td>1.0</td>\n",
              "      <td>N</td>\n",
              "      <td>161</td>\n",
              "      <td>141</td>\n",
              "      <td>2</td>\n",
              "      <td>9.3</td>\n",
              "      <td>1.00</td>\n",
              "      <td>0.5</td>\n",
              "      <td>0.00</td>\n",
              "      <td>0.0</td>\n",
              "      <td>1.0</td>\n",
              "      <td>14.30</td>\n",
              "      <td>2.5</td>\n",
              "      <td>0.00</td>\n",
              "      <td>2023-01-01</td>\n",
              "    </tr>\n",
              "    <tr>\n",
              "      <th>1</th>\n",
              "      <td>2</td>\n",
              "      <td>2023-01-01 00:55:08</td>\n",
              "      <td>2023-01-01 01:01:27</td>\n",
              "      <td>1.0</td>\n",
              "      <td>1.10</td>\n",
              "      <td>1.0</td>\n",
              "      <td>N</td>\n",
              "      <td>43</td>\n",
              "      <td>237</td>\n",
              "      <td>1</td>\n",
              "      <td>7.9</td>\n",
              "      <td>1.00</td>\n",
              "      <td>0.5</td>\n",
              "      <td>4.00</td>\n",
              "      <td>0.0</td>\n",
              "      <td>1.0</td>\n",
              "      <td>16.90</td>\n",
              "      <td>2.5</td>\n",
              "      <td>0.00</td>\n",
              "      <td>2023-01-01</td>\n",
              "    </tr>\n",
              "    <tr>\n",
              "      <th>2</th>\n",
              "      <td>2</td>\n",
              "      <td>2023-01-01 00:25:04</td>\n",
              "      <td>2023-01-01 00:37:49</td>\n",
              "      <td>1.0</td>\n",
              "      <td>2.51</td>\n",
              "      <td>1.0</td>\n",
              "      <td>N</td>\n",
              "      <td>48</td>\n",
              "      <td>238</td>\n",
              "      <td>1</td>\n",
              "      <td>14.9</td>\n",
              "      <td>1.00</td>\n",
              "      <td>0.5</td>\n",
              "      <td>15.00</td>\n",
              "      <td>0.0</td>\n",
              "      <td>1.0</td>\n",
              "      <td>34.90</td>\n",
              "      <td>2.5</td>\n",
              "      <td>0.00</td>\n",
              "      <td>2023-01-01</td>\n",
              "    </tr>\n",
              "    <tr>\n",
              "      <th>3</th>\n",
              "      <td>1</td>\n",
              "      <td>2023-01-01 00:03:48</td>\n",
              "      <td>2023-01-01 00:13:25</td>\n",
              "      <td>0.0</td>\n",
              "      <td>1.90</td>\n",
              "      <td>1.0</td>\n",
              "      <td>N</td>\n",
              "      <td>138</td>\n",
              "      <td>7</td>\n",
              "      <td>1</td>\n",
              "      <td>12.1</td>\n",
              "      <td>7.25</td>\n",
              "      <td>0.5</td>\n",
              "      <td>0.00</td>\n",
              "      <td>0.0</td>\n",
              "      <td>1.0</td>\n",
              "      <td>20.85</td>\n",
              "      <td>0.0</td>\n",
              "      <td>1.25</td>\n",
              "      <td>2023-01-01</td>\n",
              "    </tr>\n",
              "    <tr>\n",
              "      <th>4</th>\n",
              "      <td>2</td>\n",
              "      <td>2023-01-01 00:10:29</td>\n",
              "      <td>2023-01-01 00:21:19</td>\n",
              "      <td>1.0</td>\n",
              "      <td>1.43</td>\n",
              "      <td>1.0</td>\n",
              "      <td>N</td>\n",
              "      <td>107</td>\n",
              "      <td>79</td>\n",
              "      <td>1</td>\n",
              "      <td>11.4</td>\n",
              "      <td>1.00</td>\n",
              "      <td>0.5</td>\n",
              "      <td>3.28</td>\n",
              "      <td>0.0</td>\n",
              "      <td>1.0</td>\n",
              "      <td>19.68</td>\n",
              "      <td>2.5</td>\n",
              "      <td>0.00</td>\n",
              "      <td>2023-01-01</td>\n",
              "    </tr>\n",
              "  </tbody>\n",
              "</table>\n",
              "</div>"
            ],
            "text/plain": [
              "   VendorID tpep_pickup_datetime tpep_dropoff_datetime  passenger_count  \\\n",
              "0         2  2023-01-01 00:32:10   2023-01-01 00:40:36              1.0   \n",
              "1         2  2023-01-01 00:55:08   2023-01-01 01:01:27              1.0   \n",
              "2         2  2023-01-01 00:25:04   2023-01-01 00:37:49              1.0   \n",
              "3         1  2023-01-01 00:03:48   2023-01-01 00:13:25              0.0   \n",
              "4         2  2023-01-01 00:10:29   2023-01-01 00:21:19              1.0   \n",
              "\n",
              "   trip_distance  RatecodeID store_and_fwd_flag  PULocationID  DOLocationID  \\\n",
              "0           0.97         1.0                  N           161           141   \n",
              "1           1.10         1.0                  N            43           237   \n",
              "2           2.51         1.0                  N            48           238   \n",
              "3           1.90         1.0                  N           138             7   \n",
              "4           1.43         1.0                  N           107            79   \n",
              "\n",
              "   payment_type  fare_amount  extra  mta_tax  tip_amount  tolls_amount  \\\n",
              "0             2          9.3   1.00      0.5        0.00           0.0   \n",
              "1             1          7.9   1.00      0.5        4.00           0.0   \n",
              "2             1         14.9   1.00      0.5       15.00           0.0   \n",
              "3             1         12.1   7.25      0.5        0.00           0.0   \n",
              "4             1         11.4   1.00      0.5        3.28           0.0   \n",
              "\n",
              "   improvement_surcharge  total_amount  congestion_surcharge  airport_fee  \\\n",
              "0                    1.0         14.30                   2.5         0.00   \n",
              "1                    1.0         16.90                   2.5         0.00   \n",
              "2                    1.0         34.90                   2.5         0.00   \n",
              "3                    1.0         20.85                   0.0         1.25   \n",
              "4                    1.0         19.68                   2.5         0.00   \n",
              "\n",
              "  pickup_date  \n",
              "0  2023-01-01  \n",
              "1  2023-01-01  \n",
              "2  2023-01-01  \n",
              "3  2023-01-01  \n",
              "4  2023-01-01  "
            ]
          },
          "execution_count": 112,
          "metadata": {},
          "output_type": "execute_result"
        }
      ],
      "source": [
        "jan_df.head()"
      ]
    },
    {
      "cell_type": "code",
      "execution_count": null,
      "id": "08c5016f-2032-4323-b3ab-dca78720b3f6",
      "metadata": {
        "id": "08c5016f-2032-4323-b3ab-dca78720b3f6"
      },
      "outputs": [],
      "source": [
        "\n",
        "jan_df['tpep_pickup_datetime']=dd.to_datetime(jan_df['tpep_pickup_datetime'])\n",
        "jan_df['tpep_dropoff_datetime']=dd.to_datetime(jan_df['tpep_dropoff_datetime'])"
      ]
    },
    {
      "cell_type": "code",
      "execution_count": null,
      "id": "5ba2890b-bbab-4925-baa3-9adf7233e055",
      "metadata": {
        "id": "5ba2890b-bbab-4925-baa3-9adf7233e055"
      },
      "outputs": [],
      "source": [
        "jan_df['duration_in_minutes']=(jan_df['tpep_dropoff_datetime']-jan_df['tpep_pickup_datetime']).dt.total_seconds()/60"
      ]
    },
    {
      "cell_type": "code",
      "execution_count": null,
      "id": "b26d2e84-2505-4fbd-8e82-c76f6b796b3a",
      "metadata": {
        "id": "b26d2e84-2505-4fbd-8e82-c76f6b796b3a"
      },
      "outputs": [],
      "source": [
        "avg_trip_duration=jan_df.groupby('VendorID')['duration_in_minutes'].mean().compute().reset_index(name='Avg Duration')"
      ]
    },
    {
      "cell_type": "code",
      "execution_count": null,
      "id": "707485d4-1567-42f4-8f0d-e040084bd853",
      "metadata": {
        "id": "707485d4-1567-42f4-8f0d-e040084bd853"
      },
      "outputs": [],
      "source": [
        "avg_trip_duration=avg_trip_duration.sort_values(by='Avg Duration',ascending=False)"
      ]
    },
    {
      "cell_type": "code",
      "execution_count": null,
      "id": "3ca68fc8-7ab6-4a75-a4b6-35de17621903",
      "metadata": {
        "id": "3ca68fc8-7ab6-4a75-a4b6-35de17621903",
        "outputId": "27e40042-80f2-4917-ed91-6281b2cc03b2"
      },
      "outputs": [
        {
          "data": {
            "text/html": [
              "<div>\n",
              "<style scoped>\n",
              "    .dataframe tbody tr th:only-of-type {\n",
              "        vertical-align: middle;\n",
              "    }\n",
              "\n",
              "    .dataframe tbody tr th {\n",
              "        vertical-align: top;\n",
              "    }\n",
              "\n",
              "    .dataframe thead th {\n",
              "        text-align: right;\n",
              "    }\n",
              "</style>\n",
              "<table border=\"1\" class=\"dataframe\">\n",
              "  <thead>\n",
              "    <tr style=\"text-align: right;\">\n",
              "      <th></th>\n",
              "      <th>VendorID</th>\n",
              "      <th>Avg Duration</th>\n",
              "    </tr>\n",
              "  </thead>\n",
              "  <tbody>\n",
              "    <tr>\n",
              "      <th>1</th>\n",
              "      <td>2</td>\n",
              "      <td>16.07</td>\n",
              "    </tr>\n",
              "    <tr>\n",
              "      <th>0</th>\n",
              "      <td>1</td>\n",
              "      <td>14.57</td>\n",
              "    </tr>\n",
              "  </tbody>\n",
              "</table>\n",
              "</div>"
            ],
            "text/plain": [
              "   VendorID  Avg Duration\n",
              "1         2         16.07\n",
              "0         1         14.57"
            ]
          },
          "execution_count": 132,
          "metadata": {},
          "output_type": "execute_result"
        }
      ],
      "source": [
        "round(avg_trip_duration,2)"
      ]
    },
    {
      "cell_type": "markdown",
      "id": "122ff0c7-bef8-413c-81b6-06a0184e36c0",
      "metadata": {
        "id": "122ff0c7-bef8-413c-81b6-06a0184e36c0"
      },
      "source": [
        "Q2)How many trips are handled per VendorID?\n"
      ]
    },
    {
      "cell_type": "code",
      "execution_count": null,
      "id": "bfe5b565-2187-4118-8b33-b258dd7251b9",
      "metadata": {
        "id": "bfe5b565-2187-4118-8b33-b258dd7251b9"
      },
      "outputs": [],
      "source": [
        "count_of_trips=jan_df['VendorID'].value_counts().compute().reset_index(name='No of rides')\n",
        "count_of_trips=count_of_trips.sort_values(by='No of rides',ascending=False)"
      ]
    },
    {
      "cell_type": "code",
      "execution_count": null,
      "id": "575634b9-e32b-411a-be27-f6fbc9960f8d",
      "metadata": {
        "id": "575634b9-e32b-411a-be27-f6fbc9960f8d",
        "outputId": "74479a76-0805-435d-a025-c156cbbe856c"
      },
      "outputs": [
        {
          "data": {
            "text/html": [
              "<div>\n",
              "<style scoped>\n",
              "    .dataframe tbody tr th:only-of-type {\n",
              "        vertical-align: middle;\n",
              "    }\n",
              "\n",
              "    .dataframe tbody tr th {\n",
              "        vertical-align: top;\n",
              "    }\n",
              "\n",
              "    .dataframe thead th {\n",
              "        text-align: right;\n",
              "    }\n",
              "</style>\n",
              "<table border=\"1\" class=\"dataframe\">\n",
              "  <thead>\n",
              "    <tr style=\"text-align: right;\">\n",
              "      <th></th>\n",
              "      <th>VendorID</th>\n",
              "      <th>No of rides</th>\n",
              "    </tr>\n",
              "  </thead>\n",
              "  <tbody>\n",
              "    <tr>\n",
              "      <th>1</th>\n",
              "      <td>2</td>\n",
              "      <td>2239351</td>\n",
              "    </tr>\n",
              "    <tr>\n",
              "      <th>0</th>\n",
              "      <td>1</td>\n",
              "      <td>827367</td>\n",
              "    </tr>\n",
              "  </tbody>\n",
              "</table>\n",
              "</div>"
            ],
            "text/plain": [
              "   VendorID  No of rides\n",
              "1         2      2239351\n",
              "0         1       827367"
            ]
          },
          "execution_count": 138,
          "metadata": {},
          "output_type": "execute_result"
        }
      ],
      "source": [
        "count_of_trips"
      ]
    },
    {
      "cell_type": "markdown",
      "id": "bf8f3143-1daf-4530-a8b7-0d8154b3c4ed",
      "metadata": {
        "id": "bf8f3143-1daf-4530-a8b7-0d8154b3c4ed"
      },
      "source": [
        " Q4) Which VendorIDs have the highest delays (if expected time is estimable)?\n"
      ]
    },
    {
      "cell_type": "markdown",
      "id": "1e96870d-623a-4a1b-a92c-d7acbb1dbfaa",
      "metadata": {
        "id": "1e96870d-623a-4a1b-a92c-d7acbb1dbfaa"
      },
      "source": [
        "Assuming average speed as 20kmph"
      ]
    },
    {
      "cell_type": "code",
      "execution_count": null,
      "id": "de060673-17ce-4057-a6be-3eb8a102d080",
      "metadata": {
        "id": "de060673-17ce-4057-a6be-3eb8a102d080"
      },
      "outputs": [],
      "source": [
        "avg_speed_km_per_min = 20 / 60\n",
        "jan_df['expected_duration_min'] =(jan_df['trip_distance'] / avg_speed_km_per_min)\n"
      ]
    },
    {
      "cell_type": "code",
      "execution_count": null,
      "id": "7417327b-fcff-484c-8d84-7f9c06bb979f",
      "metadata": {
        "id": "7417327b-fcff-484c-8d84-7f9c06bb979f",
        "outputId": "7a6c7d6d-fc26-4fd1-c29e-72dade6e427a"
      },
      "outputs": [
        {
          "data": {
            "text/plain": [
              "0    2.91\n",
              "1    3.30\n",
              "2    7.53\n",
              "3    5.70\n",
              "4    4.29\n",
              "Name: expected_duration_min, dtype: float64"
            ]
          },
          "execution_count": 158,
          "metadata": {},
          "output_type": "execute_result"
        }
      ],
      "source": [
        "jan_df['expected_duration_min'].head()"
      ]
    },
    {
      "cell_type": "code",
      "execution_count": null,
      "id": "29c893b6-291d-4e55-a738-b8b7c067294f",
      "metadata": {
        "id": "29c893b6-291d-4e55-a738-b8b7c067294f",
        "outputId": "502b7d80-8c10-4866-ccbe-c389d9a5ed13"
      },
      "outputs": [
        {
          "data": {
            "text/plain": [
              "0     8.433333\n",
              "1     6.316667\n",
              "2    12.750000\n",
              "3     9.616667\n",
              "4    10.833333\n",
              "Name: duration_in_minutes, dtype: float64"
            ]
          },
          "execution_count": 148,
          "metadata": {},
          "output_type": "execute_result"
        }
      ],
      "source": [
        "jan_df['duration_in_minutes'].head()"
      ]
    },
    {
      "cell_type": "code",
      "execution_count": null,
      "id": "ace1d9ce-19d0-4710-a99e-165407c6d55e",
      "metadata": {
        "id": "ace1d9ce-19d0-4710-a99e-165407c6d55e",
        "outputId": "ee9428b8-4540-4493-911f-4a29042c1d3f"
      },
      "outputs": [
        {
          "data": {
            "text/plain": [
              "0    5.523333\n",
              "1    3.016667\n",
              "2    5.220000\n",
              "3    3.916667\n",
              "4    6.543333\n",
              "Name: delay, dtype: float64"
            ]
          },
          "execution_count": 164,
          "metadata": {},
          "output_type": "execute_result"
        }
      ],
      "source": [
        "jan_df['delay'] = jan_df['duration_in_minutes'] - jan_df['expected_duration_min']\n"
      ]
    },
    {
      "cell_type": "code",
      "execution_count": null,
      "id": "766edc77-45c1-48cd-82b5-105861f6030c",
      "metadata": {
        "id": "766edc77-45c1-48cd-82b5-105861f6030c"
      },
      "outputs": [],
      "source": [
        "jan_df_delay_VendorID=jan_df.groupby('VendorID')['delay'].mean().compute().reset_index(name='Avg delay per VendorID')"
      ]
    },
    {
      "cell_type": "code",
      "execution_count": null,
      "id": "0cb18384-c78f-4fa9-8ffb-a1a90dbb53cc",
      "metadata": {
        "id": "0cb18384-c78f-4fa9-8ffb-a1a90dbb53cc",
        "outputId": "f714910e-de85-4cfc-c254-53c9fe1df5f1"
      },
      "outputs": [
        {
          "data": {
            "text/html": [
              "<div>\n",
              "<style scoped>\n",
              "    .dataframe tbody tr th:only-of-type {\n",
              "        vertical-align: middle;\n",
              "    }\n",
              "\n",
              "    .dataframe tbody tr th {\n",
              "        vertical-align: top;\n",
              "    }\n",
              "\n",
              "    .dataframe thead th {\n",
              "        text-align: right;\n",
              "    }\n",
              "</style>\n",
              "<table border=\"1\" class=\"dataframe\">\n",
              "  <thead>\n",
              "    <tr style=\"text-align: right;\">\n",
              "      <th></th>\n",
              "      <th>VendorID</th>\n",
              "      <th>Avg delay per VendorID</th>\n",
              "    </tr>\n",
              "  </thead>\n",
              "  <tbody>\n",
              "    <tr>\n",
              "      <th>0</th>\n",
              "      <td>1</td>\n",
              "      <td>5.225513</td>\n",
              "    </tr>\n",
              "  </tbody>\n",
              "</table>\n",
              "</div>"
            ],
            "text/plain": [
              "   VendorID  Avg delay per VendorID\n",
              "0         1                5.225513"
            ]
          },
          "execution_count": 174,
          "metadata": {},
          "output_type": "execute_result"
        }
      ],
      "source": [
        "jan_df_delay_VendorID.sort_values(by='Avg delay per VendorID',ascending=False)\n",
        "jan_df_delay_VendorID.iloc[:1]"
      ]
    },
    {
      "cell_type": "markdown",
      "id": "99e6f31f-4c69-4a52-9e1f-848cf20e2dbf",
      "metadata": {
        "id": "99e6f31f-4c69-4a52-9e1f-848cf20e2dbf"
      },
      "source": [
        "Q4)What is the average trip duration across pickup locations?\n"
      ]
    },
    {
      "cell_type": "code",
      "execution_count": null,
      "id": "55ba053f-a4a2-4417-8e8b-f41068b3c476",
      "metadata": {
        "id": "55ba053f-a4a2-4417-8e8b-f41068b3c476",
        "outputId": "3f37fac7-723e-4fbf-e6f4-4fc7cdcad95d"
      },
      "outputs": [
        {
          "data": {
            "text/plain": [
              "Index(['VendorID', 'tpep_pickup_datetime', 'tpep_dropoff_datetime',\n",
              "       'passenger_count', 'trip_distance', 'RatecodeID', 'store_and_fwd_flag',\n",
              "       'PULocationID', 'DOLocationID', 'payment_type', 'fare_amount', 'extra',\n",
              "       'mta_tax', 'tip_amount', 'tolls_amount', 'improvement_surcharge',\n",
              "       'total_amount', 'congestion_surcharge', 'airport_fee', 'pickup_date',\n",
              "       'duration_in_minutes', 'expected_duration_min', 'delay'],\n",
              "      dtype='object')"
            ]
          },
          "execution_count": 179,
          "metadata": {},
          "output_type": "execute_result"
        }
      ],
      "source": [
        "jan_df.columns"
      ]
    },
    {
      "cell_type": "code",
      "execution_count": null,
      "id": "2d935ea4-daab-4deb-a1f9-f896f5c3ee02",
      "metadata": {
        "id": "2d935ea4-daab-4deb-a1f9-f896f5c3ee02"
      },
      "outputs": [],
      "source": [
        "Average_durationperLocation=jan_df.groupby('PULocationID')['expected_duration_min'].mean().compute().reset_index(name='Average Trip duration in minutes')"
      ]
    },
    {
      "cell_type": "code",
      "execution_count": null,
      "id": "62667c2a-6ccd-4e89-bf71-eaa9d1278386",
      "metadata": {
        "id": "62667c2a-6ccd-4e89-bf71-eaa9d1278386"
      },
      "outputs": [],
      "source": [
        "Average_durationperLocation=Average_durationperLocation.sort_values(by='Average Trip duration in minutes',ascending=False)"
      ]
    },
    {
      "cell_type": "code",
      "execution_count": null,
      "id": "36837e30-4b5a-4900-8f31-adb544cc2b67",
      "metadata": {
        "id": "36837e30-4b5a-4900-8f31-adb544cc2b67",
        "outputId": "dd00332d-6b4c-4b65-fb76-8477e996295b"
      },
      "outputs": [
        {
          "data": {
            "text/html": [
              "<div>\n",
              "<style scoped>\n",
              "    .dataframe tbody tr th:only-of-type {\n",
              "        vertical-align: middle;\n",
              "    }\n",
              "\n",
              "    .dataframe tbody tr th {\n",
              "        vertical-align: top;\n",
              "    }\n",
              "\n",
              "    .dataframe thead th {\n",
              "        text-align: right;\n",
              "    }\n",
              "</style>\n",
              "<table border=\"1\" class=\"dataframe\">\n",
              "  <thead>\n",
              "    <tr style=\"text-align: right;\">\n",
              "      <th></th>\n",
              "      <th>PULocationID</th>\n",
              "      <th>Average Trip duration in minutes</th>\n",
              "    </tr>\n",
              "  </thead>\n",
              "  <tbody>\n",
              "    <tr>\n",
              "      <th>248</th>\n",
              "      <td>257</td>\n",
              "      <td>152.334783</td>\n",
              "    </tr>\n",
              "    <tr>\n",
              "      <th>252</th>\n",
              "      <td>261</td>\n",
              "      <td>65.828737</td>\n",
              "    </tr>\n",
              "    <tr>\n",
              "      <th>13</th>\n",
              "      <td>14</td>\n",
              "      <td>61.740000</td>\n",
              "    </tr>\n",
              "    <tr>\n",
              "      <th>4</th>\n",
              "      <td>5</td>\n",
              "      <td>54.589286</td>\n",
              "    </tr>\n",
              "    <tr>\n",
              "      <th>110</th>\n",
              "      <td>118</td>\n",
              "      <td>48.417000</td>\n",
              "    </tr>\n",
              "    <tr>\n",
              "      <th>...</th>\n",
              "      <td>...</td>\n",
              "      <td>...</td>\n",
              "    </tr>\n",
              "    <tr>\n",
              "      <th>184</th>\n",
              "      <td>193</td>\n",
              "      <td>2.480258</td>\n",
              "    </tr>\n",
              "    <tr>\n",
              "      <th>28</th>\n",
              "      <td>30</td>\n",
              "      <td>1.470000</td>\n",
              "    </tr>\n",
              "    <tr>\n",
              "      <th>95</th>\n",
              "      <td>99</td>\n",
              "      <td>0.090000</td>\n",
              "    </tr>\n",
              "    <tr>\n",
              "      <th>107</th>\n",
              "      <td>115</td>\n",
              "      <td>0.000000</td>\n",
              "    </tr>\n",
              "    <tr>\n",
              "      <th>178</th>\n",
              "      <td>187</td>\n",
              "      <td>0.000000</td>\n",
              "    </tr>\n",
              "  </tbody>\n",
              "</table>\n",
              "<p>257 rows × 2 columns</p>\n",
              "</div>"
            ],
            "text/plain": [
              "     PULocationID  Average Trip duration in minutes\n",
              "248           257                        152.334783\n",
              "252           261                         65.828737\n",
              "13             14                         61.740000\n",
              "4               5                         54.589286\n",
              "110           118                         48.417000\n",
              "..            ...                               ...\n",
              "184           193                          2.480258\n",
              "28             30                          1.470000\n",
              "95             99                          0.090000\n",
              "107           115                          0.000000\n",
              "178           187                          0.000000\n",
              "\n",
              "[257 rows x 2 columns]"
            ]
          },
          "execution_count": 189,
          "metadata": {},
          "output_type": "execute_result"
        }
      ],
      "source": [
        "Average_durationperLocation"
      ]
    },
    {
      "cell_type": "markdown",
      "id": "945b07fa-4cf5-4620-a281-2c05bf03cf79",
      "metadata": {
        "id": "945b07fa-4cf5-4620-a281-2c05bf03cf79"
      },
      "source": [
        "Purpose: Understand passenger habits and value.\n",
        "\n",
        "Questions:\n",
        "\n",
        "What is the average number of passengers per trip?"
      ]
    },
    {
      "cell_type": "code",
      "execution_count": null,
      "id": "e2f283a7-4505-4312-84a4-ba4fec9aa848",
      "metadata": {
        "id": "e2f283a7-4505-4312-84a4-ba4fec9aa848"
      },
      "outputs": [],
      "source": [
        "avg_passenger_per_trip=jan_df['passenger_count'].mean().compute()"
      ]
    },
    {
      "cell_type": "code",
      "execution_count": null,
      "id": "d31465a2-73a2-4426-9500-4ebb2abd8d53",
      "metadata": {
        "id": "d31465a2-73a2-4426-9500-4ebb2abd8d53",
        "outputId": "40cf7ca5-bfc8-4d32-f2b7-11508fbf7248"
      },
      "outputs": [
        {
          "data": {
            "text/plain": [
              "1.36"
            ]
          },
          "execution_count": 199,
          "metadata": {},
          "output_type": "execute_result"
        }
      ],
      "source": [
        "round(avg_passenger_per_trip,2)"
      ]
    },
    {
      "cell_type": "markdown",
      "id": "bb1c8de6-79e4-459b-8edf-138d30ebf2fc",
      "metadata": {
        "id": "bb1c8de6-79e4-459b-8edf-138d30ebf2fc"
      },
      "source": [
        "Which locations have the highest number of unique trips (passenger demand clusters)?\n"
      ]
    },
    {
      "cell_type": "markdown",
      "id": "17c0d233-b1d0-4dd4-9aa1-e663beb722d8",
      "metadata": {
        "id": "17c0d233-b1d0-4dd4-9aa1-e663beb722d8"
      },
      "source": [
        "To find locations with the highest number of unique trips (indicating passenger demand clusters),\n",
        "Im using PULocationID (pickup location) and count how many trips originated from each."
      ]
    },
    {
      "cell_type": "code",
      "execution_count": null,
      "id": "4a4839ee-65b6-41ed-a155-2e4871c7830c",
      "metadata": {
        "id": "4a4839ee-65b6-41ed-a155-2e4871c7830c",
        "outputId": "812c3ba8-d984-49ef-e4ac-8c3a4a23683e"
      },
      "outputs": [
        {
          "name": "stdout",
          "output_type": "stream",
          "text": [
            "     PULocationID  trip_count\n",
            "124           132      160024\n",
            "228           237      148074\n",
            "227           236      138391\n",
            "153           161      135415\n",
            "177           186      109226\n",
            "154           162      105333\n",
            "134           142      100226\n",
            "221           230       98988\n",
            "130           138       89186\n",
            "162           170       88346\n"
          ]
        }
      ],
      "source": [
        "pickup_demand = jan_df.groupby('PULocationID').size().compute().reset_index(name='trip_count')\n",
        "pickup_demand_sorted = pickup_demand.sort_values(by='trip_count', ascending=False)\n",
        "\n",
        "print(pickup_demand_sorted.head(10))  # Top 10 high-demand pickup locations\n"
      ]
    },
    {
      "cell_type": "markdown",
      "id": "f74839c0-19e8-40e2-add9-d13d8c7ed200",
      "metadata": {
        "id": "f74839c0-19e8-40e2-add9-d13d8c7ed200"
      },
      "source": [
        "What is the average total fare per passenger count group?\n"
      ]
    },
    {
      "cell_type": "code",
      "execution_count": null,
      "id": "e2cfb36b-8a27-438b-91f3-131d1d18c818",
      "metadata": {
        "id": "e2cfb36b-8a27-438b-91f3-131d1d18c818"
      },
      "outputs": [],
      "source": [
        "Avg_FarePERPassenger_count=jan_df.groupby('passenger_count')['total_amount'].mean().compute().reset_index(name='Avg _Fare/Passenger count')"
      ]
    },
    {
      "cell_type": "code",
      "execution_count": null,
      "id": "670c5f00-8dc9-4102-98ff-a933c65610e4",
      "metadata": {
        "id": "670c5f00-8dc9-4102-98ff-a933c65610e4",
        "outputId": "56004f21-f364-47b5-edb1-57101e7c017a"
      },
      "outputs": [
        {
          "data": {
            "text/html": [
              "<div>\n",
              "<style scoped>\n",
              "    .dataframe tbody tr th:only-of-type {\n",
              "        vertical-align: middle;\n",
              "    }\n",
              "\n",
              "    .dataframe tbody tr th {\n",
              "        vertical-align: top;\n",
              "    }\n",
              "\n",
              "    .dataframe thead th {\n",
              "        text-align: right;\n",
              "    }\n",
              "</style>\n",
              "<table border=\"1\" class=\"dataframe\">\n",
              "  <thead>\n",
              "    <tr style=\"text-align: right;\">\n",
              "      <th></th>\n",
              "      <th>passenger_count</th>\n",
              "      <th>Avg _Fare/Passenger count</th>\n",
              "    </tr>\n",
              "  </thead>\n",
              "  <tbody>\n",
              "    <tr>\n",
              "      <th>8</th>\n",
              "      <td>8.0</td>\n",
              "      <td>99.336923</td>\n",
              "    </tr>\n",
              "    <tr>\n",
              "      <th>9</th>\n",
              "      <td>9.0</td>\n",
              "      <td>92.250000</td>\n",
              "    </tr>\n",
              "    <tr>\n",
              "      <th>7</th>\n",
              "      <td>7.0</td>\n",
              "      <td>85.111667</td>\n",
              "    </tr>\n",
              "    <tr>\n",
              "      <th>4</th>\n",
              "      <td>4.0</td>\n",
              "      <td>29.611602</td>\n",
              "    </tr>\n",
              "    <tr>\n",
              "      <th>2</th>\n",
              "      <td>2.0</td>\n",
              "      <td>29.313098</td>\n",
              "    </tr>\n",
              "    <tr>\n",
              "      <th>10</th>\n",
              "      <td>NaN</td>\n",
              "      <td>29.133590</td>\n",
              "    </tr>\n",
              "    <tr>\n",
              "      <th>3</th>\n",
              "      <td>3.0</td>\n",
              "      <td>28.475520</td>\n",
              "    </tr>\n",
              "    <tr>\n",
              "      <th>5</th>\n",
              "      <td>5.0</td>\n",
              "      <td>26.587692</td>\n",
              "    </tr>\n",
              "    <tr>\n",
              "      <th>6</th>\n",
              "      <td>6.0</td>\n",
              "      <td>26.558484</td>\n",
              "    </tr>\n",
              "    <tr>\n",
              "      <th>1</th>\n",
              "      <td>1.0</td>\n",
              "      <td>26.443283</td>\n",
              "    </tr>\n",
              "    <tr>\n",
              "      <th>0</th>\n",
              "      <td>0.0</td>\n",
              "      <td>24.162124</td>\n",
              "    </tr>\n",
              "  </tbody>\n",
              "</table>\n",
              "</div>"
            ],
            "text/plain": [
              "    passenger_count  Avg _Fare/Passenger count\n",
              "8               8.0                  99.336923\n",
              "9               9.0                  92.250000\n",
              "7               7.0                  85.111667\n",
              "4               4.0                  29.611602\n",
              "2               2.0                  29.313098\n",
              "10              NaN                  29.133590\n",
              "3               3.0                  28.475520\n",
              "5               5.0                  26.587692\n",
              "6               6.0                  26.558484\n",
              "1               1.0                  26.443283\n",
              "0               0.0                  24.162124"
            ]
          },
          "execution_count": 220,
          "metadata": {},
          "output_type": "execute_result"
        }
      ],
      "source": [
        "Avg_FarePERPassenger_count.sort_values(by='Avg _Fare/Passenger count',ascending=False)"
      ]
    },
    {
      "cell_type": "markdown",
      "id": "8f120109-3967-48c9-aee1-da9705f35e2b",
      "metadata": {
        "id": "8f120109-3967-48c9-aee1-da9705f35e2b"
      },
      "source": [
        "What times of day have the highest ride frequency?\n"
      ]
    },
    {
      "cell_type": "code",
      "execution_count": null,
      "id": "124bd8eb-c182-421c-8363-a0c4488541a0",
      "metadata": {
        "id": "124bd8eb-c182-421c-8363-a0c4488541a0"
      },
      "outputs": [],
      "source": [
        "jan_df['pickup_hr']=jan_df['tpep_pickup_datetime'].dt.hour"
      ]
    },
    {
      "cell_type": "code",
      "execution_count": null,
      "id": "5f1200f0-b2dd-4479-9a0f-689e8c3249eb",
      "metadata": {
        "id": "5f1200f0-b2dd-4479-9a0f-689e8c3249eb"
      },
      "outputs": [],
      "source": [
        "jan_rideFrequency = (\n",
        "    jan_df['pickup_hr']\n",
        "    .value_counts()\n",
        "    .compute()\n",
        "    .reset_index(name='Frequency')\n",
        "    .rename(columns={'index': 'pickup_hour'})\n",
        "    .sort_values(by='Frequency', ascending=False)\n",
        ")\n"
      ]
    },
    {
      "cell_type": "code",
      "execution_count": null,
      "id": "f6a6e1ce-f550-4131-8922-14c72e6da26f",
      "metadata": {
        "id": "f6a6e1ce-f550-4131-8922-14c72e6da26f",
        "outputId": "d26fb8d6-0998-4324-9b37-4ae9eac8393e"
      },
      "outputs": [
        {
          "data": {
            "text/html": [
              "<div>\n",
              "<style scoped>\n",
              "    .dataframe tbody tr th:only-of-type {\n",
              "        vertical-align: middle;\n",
              "    }\n",
              "\n",
              "    .dataframe tbody tr th {\n",
              "        vertical-align: top;\n",
              "    }\n",
              "\n",
              "    .dataframe thead th {\n",
              "        text-align: right;\n",
              "    }\n",
              "</style>\n",
              "<table border=\"1\" class=\"dataframe\">\n",
              "  <thead>\n",
              "    <tr style=\"text-align: right;\">\n",
              "      <th></th>\n",
              "      <th>pickup_hr</th>\n",
              "      <th>Frequency</th>\n",
              "    </tr>\n",
              "  </thead>\n",
              "  <tbody>\n",
              "    <tr>\n",
              "      <th>18</th>\n",
              "      <td>18</td>\n",
              "      <td>215889</td>\n",
              "    </tr>\n",
              "    <tr>\n",
              "      <th>17</th>\n",
              "      <td>17</td>\n",
              "      <td>209492</td>\n",
              "    </tr>\n",
              "    <tr>\n",
              "      <th>15</th>\n",
              "      <td>15</td>\n",
              "      <td>196423</td>\n",
              "    </tr>\n",
              "    <tr>\n",
              "      <th>16</th>\n",
              "      <td>16</td>\n",
              "      <td>195977</td>\n",
              "    </tr>\n",
              "    <tr>\n",
              "      <th>19</th>\n",
              "      <td>19</td>\n",
              "      <td>192801</td>\n",
              "    </tr>\n",
              "    <tr>\n",
              "      <th>14</th>\n",
              "      <td>14</td>\n",
              "      <td>191602</td>\n",
              "    </tr>\n",
              "    <tr>\n",
              "      <th>13</th>\n",
              "      <td>13</td>\n",
              "      <td>178738</td>\n",
              "    </tr>\n",
              "    <tr>\n",
              "      <th>12</th>\n",
              "      <td>12</td>\n",
              "      <td>169858</td>\n",
              "    </tr>\n",
              "    <tr>\n",
              "      <th>20</th>\n",
              "      <td>20</td>\n",
              "      <td>165861</td>\n",
              "    </tr>\n",
              "    <tr>\n",
              "      <th>21</th>\n",
              "      <td>21</td>\n",
              "      <td>161547</td>\n",
              "    </tr>\n",
              "    <tr>\n",
              "      <th>11</th>\n",
              "      <td>11</td>\n",
              "      <td>154156</td>\n",
              "    </tr>\n",
              "    <tr>\n",
              "      <th>22</th>\n",
              "      <td>22</td>\n",
              "      <td>147412</td>\n",
              "    </tr>\n",
              "    <tr>\n",
              "      <th>10</th>\n",
              "      <td>10</td>\n",
              "      <td>143666</td>\n",
              "    </tr>\n",
              "    <tr>\n",
              "      <th>9</th>\n",
              "      <td>9</td>\n",
              "      <td>131110</td>\n",
              "    </tr>\n",
              "    <tr>\n",
              "      <th>8</th>\n",
              "      <td>8</td>\n",
              "      <td>116865</td>\n",
              "    </tr>\n",
              "    <tr>\n",
              "      <th>23</th>\n",
              "      <td>23</td>\n",
              "      <td>114506</td>\n",
              "    </tr>\n",
              "    <tr>\n",
              "      <th>7</th>\n",
              "      <td>7</td>\n",
              "      <td>86876</td>\n",
              "    </tr>\n",
              "    <tr>\n",
              "      <th>0</th>\n",
              "      <td>0</td>\n",
              "      <td>84957</td>\n",
              "    </tr>\n",
              "    <tr>\n",
              "      <th>1</th>\n",
              "      <td>1</td>\n",
              "      <td>59799</td>\n",
              "    </tr>\n",
              "    <tr>\n",
              "      <th>6</th>\n",
              "      <td>6</td>\n",
              "      <td>43860</td>\n",
              "    </tr>\n",
              "    <tr>\n",
              "      <th>2</th>\n",
              "      <td>2</td>\n",
              "      <td>42040</td>\n",
              "    </tr>\n",
              "    <tr>\n",
              "      <th>3</th>\n",
              "      <td>3</td>\n",
              "      <td>27437</td>\n",
              "    </tr>\n",
              "    <tr>\n",
              "      <th>5</th>\n",
              "      <td>5</td>\n",
              "      <td>18011</td>\n",
              "    </tr>\n",
              "    <tr>\n",
              "      <th>4</th>\n",
              "      <td>4</td>\n",
              "      <td>17835</td>\n",
              "    </tr>\n",
              "  </tbody>\n",
              "</table>\n",
              "</div>"
            ],
            "text/plain": [
              "    pickup_hr  Frequency\n",
              "18         18     215889\n",
              "17         17     209492\n",
              "15         15     196423\n",
              "16         16     195977\n",
              "19         19     192801\n",
              "14         14     191602\n",
              "13         13     178738\n",
              "12         12     169858\n",
              "20         20     165861\n",
              "21         21     161547\n",
              "11         11     154156\n",
              "22         22     147412\n",
              "10         10     143666\n",
              "9           9     131110\n",
              "8           8     116865\n",
              "23         23     114506\n",
              "7           7      86876\n",
              "0           0      84957\n",
              "1           1      59799\n",
              "6           6      43860\n",
              "2           2      42040\n",
              "3           3      27437\n",
              "5           5      18011\n",
              "4           4      17835"
            ]
          },
          "execution_count": 235,
          "metadata": {},
          "output_type": "execute_result"
        }
      ],
      "source": [
        "jan_rideFrequency"
      ]
    },
    {
      "cell_type": "markdown",
      "id": "f014d97c-26a0-4a43-860b-59c794dcbf4d",
      "metadata": {
        "id": "f014d97c-26a0-4a43-860b-59c794dcbf4d"
      },
      "source": [
        "What are the most common days/times for travel?\n"
      ]
    },
    {
      "cell_type": "code",
      "execution_count": null,
      "id": "8c012723-39db-4613-b659-b3dafcc72b2a",
      "metadata": {
        "id": "8c012723-39db-4613-b659-b3dafcc72b2a"
      },
      "outputs": [],
      "source": [
        "jan_df['pickup_day']=jan_df['tpep_pickup_datetime'].dt.day_name()"
      ]
    },
    {
      "cell_type": "code",
      "execution_count": null,
      "id": "a817cb87-a619-46c9-8de5-540212cf5d31",
      "metadata": {
        "id": "a817cb87-a619-46c9-8de5-540212cf5d31"
      },
      "outputs": [],
      "source": [
        "jan_commonday= (\n",
        "    jan_df['pickup_day']\n",
        "    .value_counts()\n",
        "    .compute()\n",
        "    .reset_index(name='common_day')\n",
        "    .rename(columns={'index': 'pickup_day'})\n",
        "    .sort_values(by='common_day', ascending=False)\n",
        ")\n"
      ]
    },
    {
      "cell_type": "code",
      "execution_count": null,
      "id": "47f7c6f7-7c0f-4652-8694-fb4e5d97709b",
      "metadata": {
        "id": "47f7c6f7-7c0f-4652-8694-fb4e5d97709b",
        "outputId": "2e20ae19-5e08-4203-8055-c63f9f3723ab"
      },
      "outputs": [
        {
          "data": {
            "text/html": [
              "<div>\n",
              "<style scoped>\n",
              "    .dataframe tbody tr th:only-of-type {\n",
              "        vertical-align: middle;\n",
              "    }\n",
              "\n",
              "    .dataframe tbody tr th {\n",
              "        vertical-align: top;\n",
              "    }\n",
              "\n",
              "    .dataframe thead th {\n",
              "        text-align: right;\n",
              "    }\n",
              "</style>\n",
              "<table border=\"1\" class=\"dataframe\">\n",
              "  <thead>\n",
              "    <tr style=\"text-align: right;\">\n",
              "      <th></th>\n",
              "      <th>pickup_day</th>\n",
              "      <th>common_day</th>\n",
              "    </tr>\n",
              "  </thead>\n",
              "  <tbody>\n",
              "    <tr>\n",
              "      <th>5</th>\n",
              "      <td>Tuesday</td>\n",
              "      <td>490981</td>\n",
              "    </tr>\n",
              "    <tr>\n",
              "      <th>4</th>\n",
              "      <td>Thursday</td>\n",
              "      <td>441929</td>\n",
              "    </tr>\n",
              "    <tr>\n",
              "      <th>2</th>\n",
              "      <td>Saturday</td>\n",
              "      <td>441630</td>\n",
              "    </tr>\n",
              "    <tr>\n",
              "      <th>3</th>\n",
              "      <td>Sunday</td>\n",
              "      <td>436434</td>\n",
              "    </tr>\n",
              "    <tr>\n",
              "      <th>0</th>\n",
              "      <td>Friday</td>\n",
              "      <td>434381</td>\n",
              "    </tr>\n",
              "    <tr>\n",
              "      <th>6</th>\n",
              "      <td>Wednesday</td>\n",
              "      <td>416558</td>\n",
              "    </tr>\n",
              "    <tr>\n",
              "      <th>1</th>\n",
              "      <td>Monday</td>\n",
              "      <td>404805</td>\n",
              "    </tr>\n",
              "  </tbody>\n",
              "</table>\n",
              "</div>"
            ],
            "text/plain": [
              "  pickup_day  common_day\n",
              "5    Tuesday      490981\n",
              "4   Thursday      441929\n",
              "2   Saturday      441630\n",
              "3     Sunday      436434\n",
              "0     Friday      434381\n",
              "6  Wednesday      416558\n",
              "1     Monday      404805"
            ]
          },
          "execution_count": 247,
          "metadata": {},
          "output_type": "execute_result"
        }
      ],
      "source": [
        "jan_commonday"
      ]
    },
    {
      "cell_type": "markdown",
      "id": "80f89311-067e-4cbc-8619-0f756f033a78",
      "metadata": {
        "id": "80f89311-067e-4cbc-8619-0f756f033a78"
      },
      "source": [
        " Most Common Day-Hour Combo:\n"
      ]
    },
    {
      "cell_type": "code",
      "execution_count": null,
      "id": "ea3f1a72-dda8-480c-a70b-6429a952c3da",
      "metadata": {
        "id": "ea3f1a72-dda8-480c-a70b-6429a952c3da"
      },
      "outputs": [],
      "source": [
        "jan_df['pickup_day_hour_AMPM'] = jan_df['tpep_pickup_datetime'].dt.strftime('%A %H:00')\n",
        "\n",
        "day_hour_counts = (\n",
        "    jan_df['pickup_day_hour_AMPM']\n",
        "    .value_counts()\n",
        "    .compute()\n",
        "    .reset_index(name='Ride_Count')\n",
        "    .rename(columns={'index': 'Day_Hour'})\n",
        "    .sort_values(by='Ride_Count', ascending=False)\n",
        ")\n"
      ]
    },
    {
      "cell_type": "code",
      "execution_count": null,
      "id": "a8218768-4f88-4335-943b-a2869ab91724",
      "metadata": {
        "id": "a8218768-4f88-4335-943b-a2869ab91724",
        "outputId": "187ecb0f-31db-4e27-eb4e-8d56cb190ed3"
      },
      "outputs": [
        {
          "data": {
            "text/html": [
              "<div>\n",
              "<style scoped>\n",
              "    .dataframe tbody tr th:only-of-type {\n",
              "        vertical-align: middle;\n",
              "    }\n",
              "\n",
              "    .dataframe tbody tr th {\n",
              "        vertical-align: top;\n",
              "    }\n",
              "\n",
              "    .dataframe thead th {\n",
              "        text-align: right;\n",
              "    }\n",
              "</style>\n",
              "<table border=\"1\" class=\"dataframe\">\n",
              "  <thead>\n",
              "    <tr style=\"text-align: right;\">\n",
              "      <th></th>\n",
              "      <th>pickup_day_hour_AMPM</th>\n",
              "      <th>Ride_Count</th>\n",
              "    </tr>\n",
              "  </thead>\n",
              "  <tbody>\n",
              "    <tr>\n",
              "      <th>138</th>\n",
              "      <td>Tuesday 18:00</td>\n",
              "      <td>36405</td>\n",
              "    </tr>\n",
              "    <tr>\n",
              "      <th>137</th>\n",
              "      <td>Tuesday 17:00</td>\n",
              "      <td>34731</td>\n",
              "    </tr>\n",
              "    <tr>\n",
              "      <th>114</th>\n",
              "      <td>Thursday 18:00</td>\n",
              "      <td>34409</td>\n",
              "    </tr>\n",
              "    <tr>\n",
              "      <th>162</th>\n",
              "      <td>Wednesday 18:00</td>\n",
              "      <td>32941</td>\n",
              "    </tr>\n",
              "    <tr>\n",
              "      <th>135</th>\n",
              "      <td>Tuesday 15:00</td>\n",
              "      <td>32007</td>\n",
              "    </tr>\n",
              "    <tr>\n",
              "      <th>...</th>\n",
              "      <td>...</td>\n",
              "      <td>...</td>\n",
              "    </tr>\n",
              "    <tr>\n",
              "      <th>99</th>\n",
              "      <td>Thursday 03:00</td>\n",
              "      <td>1289</td>\n",
              "    </tr>\n",
              "    <tr>\n",
              "      <th>124</th>\n",
              "      <td>Tuesday 04:00</td>\n",
              "      <td>1225</td>\n",
              "    </tr>\n",
              "    <tr>\n",
              "      <th>148</th>\n",
              "      <td>Wednesday 04:00</td>\n",
              "      <td>1062</td>\n",
              "    </tr>\n",
              "    <tr>\n",
              "      <th>123</th>\n",
              "      <td>Tuesday 03:00</td>\n",
              "      <td>1030</td>\n",
              "    </tr>\n",
              "    <tr>\n",
              "      <th>147</th>\n",
              "      <td>Wednesday 03:00</td>\n",
              "      <td>973</td>\n",
              "    </tr>\n",
              "  </tbody>\n",
              "</table>\n",
              "<p>168 rows × 2 columns</p>\n",
              "</div>"
            ],
            "text/plain": [
              "    pickup_day_hour_AMPM  Ride_Count\n",
              "138        Tuesday 18:00       36405\n",
              "137        Tuesday 17:00       34731\n",
              "114       Thursday 18:00       34409\n",
              "162      Wednesday 18:00       32941\n",
              "135        Tuesday 15:00       32007\n",
              "..                   ...         ...\n",
              "99        Thursday 03:00        1289\n",
              "124        Tuesday 04:00        1225\n",
              "148      Wednesday 04:00        1062\n",
              "123        Tuesday 03:00        1030\n",
              "147      Wednesday 03:00         973\n",
              "\n",
              "[168 rows x 2 columns]"
            ]
          },
          "execution_count": 252,
          "metadata": {},
          "output_type": "execute_result"
        }
      ],
      "source": [
        "day_hour_counts"
      ]
    },
    {
      "cell_type": "code",
      "execution_count": null,
      "id": "4ace7fbd-73b3-41f5-9569-b97f011336fa",
      "metadata": {
        "id": "4ace7fbd-73b3-41f5-9569-b97f011336fa"
      },
      "outputs": [],
      "source": []
    }
  ],
  "metadata": {
    "kernelspec": {
      "display_name": "Python [conda env:base] *",
      "language": "python",
      "name": "conda-base-py"
    },
    "language_info": {
      "codemirror_mode": {
        "name": "ipython",
        "version": 3
      },
      "file_extension": ".py",
      "mimetype": "text/x-python",
      "name": "python",
      "nbconvert_exporter": "python",
      "pygments_lexer": "ipython3",
      "version": "3.12.7"
    },
    "colab": {
      "provenance": [],
      "include_colab_link": true
    }
  },
  "nbformat": 4,
  "nbformat_minor": 5
}